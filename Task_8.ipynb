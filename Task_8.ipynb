{
 "cells": [
  {
   "cell_type": "code",
   "execution_count": 1,
   "id": "6a9700d2-bd93-4cd3-aabd-f7ad4e5de8f9",
   "metadata": {},
   "outputs": [],
   "source": [
    "# ДЗ по \"Сбор и разметка данных (семинары)\"\n",
    "\n",
    "## Семинар 8. Работа с данными"
   ]
  },
  {
   "cell_type": "code",
   "execution_count": null,
   "id": "07a1a4df-a8df-473d-a2f7-753e98d2f6ef",
   "metadata": {
    "scrolled": true
   },
   "outputs": [],
   "source": [
    "# Устанавливаем библиотеки\n",
    "!pip install pandas\n",
    "!pip install distfit\n",
    "!pip install plotly_express==0.4.0\n",
    "!pip install seaborn\n",
    "!pip install -U scikit-learn"
   ]
  },
  {
   "cell_type": "code",
   "execution_count": 3,
   "id": "a1925ede-1ddd-44bd-9fd7-25a29d2bedeb",
   "metadata": {},
   "outputs": [],
   "source": [
    "# 1. Скачайте датасет House Prices Kaggle со страницы конкурса (https://www.kaggle.com/competitions/house-prices-advanced-regression-techniques/data) \n",
    "#    и сохраните его в том же каталоге, что и ваш скрипт или блокнот Python.\n",
    "# 2. Загрузите датасет в pandas DataFrame под названием df."
   ]
  },
  {
   "cell_type": "code",
   "execution_count": null,
   "id": "74c2014f-a6ba-4aa1-a9b1-fd1c99936419",
   "metadata": {},
   "outputs": [],
   "source": [
    "# Импортируем библиотеки для работы с датасетом\n",
    "import pandas as pd\n",
    "import numpy as np"
   ]
  },
  {
   "cell_type": "code",
   "execution_count": null,
   "id": "16e895f1-5e47-42fe-9a04-b8b87efb884a",
   "metadata": {},
   "outputs": [],
   "source": [
    "# Загружаем датасет\n",
    "df = pd.read_csv('train.csv')"
   ]
  },
  {
   "cell_type": "markdown",
   "id": "324e5393",
   "metadata": {},
   "source": [
    "Dataset Description\n",
    "File descriptions\n",
    "\n",
    "1. train.csv - the training set\n",
    "2. test.csv - the test set\n",
    "3. data_description.txt - full description of each column, originally prepared by Dean De Cock but lightly edited to match the column names used here\n",
    "4. sample_submission.csv - a benchmark submission from a linear regression on year and month of sale, lot square footage, and number of bedrooms\n",
    "\n",
    "Data fields\n",
    "\n",
    "Here's a brief version of what you'll find in the data description file.\n",
    "\n",
    "5. SalePrice - the property's sale price in dollars. This is the target variable that you're trying to predict.\n",
    "6. MSSubClass: The building class\n",
    "7. MSZoning: The general zoning classification\n",
    "8. LotFrontage: Linear feet of street connected to property\n",
    "9. LotArea: Lot size in square feet\n",
    "10. Street: Type of road access\n",
    "11. Alley: Type of alley access\n",
    "12. LotShape: General shape of property\n",
    "13. LandContour: Flatness of the property\n",
    "14. Utilities: Type of utilities available\n",
    "15. LotConfig: Lot configuration\n",
    "16. LandSlope: Slope of property\n",
    "17. Neighborhood: Physical locations within Ames city limits\n",
    "18. Condition1: Proximity to main road or railroad\n",
    "19. Condition2: Proximity to main road or railroad (if a second is present)\n",
    "20. BldgType: Type of dwelling\n",
    "21. HouseStyle: Style of dwelling\n",
    "22. OverallQual: Overall material and finish quality\n",
    "23. OverallCond: Overall condition rating\n",
    "24. YearBuilt: Original construction date\n",
    "25. YearRemodAdd: Remodel date\n",
    "26. RoofStyle: Type of roof\n",
    "27. RoofMatl: Roof material\n",
    "28. Exterior1st: Exterior covering on house\n",
    "29. Exterior2nd: Exterior covering on house (if more than one material)\n",
    "30. MasVnrType: Masonry veneer type\n",
    "31. MasVnrArea: Masonry veneer area in square feet\n",
    "32. ExterQual: Exterior material quality\n",
    "33. ExterCond: Present condition of the material on the exterior\n",
    "34. Foundation: Type of foundation\n",
    "35. BsmtQual: Height of the basement\n",
    "36. BsmtCond: General condition of the basement\n",
    "37. BsmtExposure: Walkout or garden level basement walls\n",
    "38. BsmtFinType1: Quality of basement finished area\n",
    "39. BsmtFinSF1: Type 1 finished square feet\n",
    "40. BsmtFinType2: Quality of second finished area (if present)\n",
    "41. BsmtFinSF2: Type 2 finished square feet\n",
    "42. BsmtUnfSF: Unfinished square feet of basement area\n",
    "43. TotalBsmtSF: Total square feet of basement area\n",
    "44. Heating: Type of heating\n",
    "45. HeatingQC: Heating quality and condition\n",
    "46. CentralAir: Central air conditioning\n",
    "47. Electrical: Electrical system\n",
    "48. 1stFlrSF: First Floor square feet\n",
    "49. 2ndFlrSF: Second floor square feet\n",
    "50. LowQualFinSF: Low quality finished square feet (all floors)\n",
    "51. GrLivArea: Above grade (ground) living area square feet\n",
    "52. BsmtFullBath: Basement full bathrooms\n",
    "53. BsmtHalfBath: Basement half bathrooms\n",
    "54. FullBath: Full bathrooms above grade\n",
    "55. HalfBath: Half baths above grade\n",
    "56. Bedroom: Number of bedrooms above basement level\n",
    "57. Kitchen: Number of kitchens\n",
    "58. KitchenQual: Kitchen quality\n",
    "59. TotRmsAbvGrd: Total rooms above grade (does not include bathrooms)\n",
    "60. Functional: Home functionality rating\n",
    "61. Fireplaces: Number of fireplaces\n",
    "62. FireplaceQu: Fireplace quality\n",
    "63. GarageType: Garage location\n",
    "64. GarageYrBlt: Year garage was built\n",
    "65. GarageFinish: Interior finish of the garage\n",
    "66. GarageCars: Size of garage in car capacity\n",
    "67. GarageArea: Size of garage in square feet\n",
    "68. GarageQual: Garage quality\n",
    "69. GarageCond: Garage condition\n",
    "70. PavedDrive: Paved driveway\n",
    "71. WoodDeckSF: Wood deck area in square feet\n",
    "72. OpenPorchSF: Open porch area in square feet\n",
    "73. EnclosedPorch: Enclosed porch area in square feet\n",
    "74. 3SsnPorch: Three season porch area in square feet\n",
    "75. ScreenPorch: Screen porch area in square feet\n",
    "76. PoolArea: Pool area in square feet\n",
    "77. PoolQC: Pool quality\n",
    "78. Fence: Fence quality\n",
    "79. MiscFeature: Miscellaneous feature not covered in other categories\n",
    "80. MiscVal: $Value of miscellaneous feature\n",
    "81. MoSold: Month Sold\n",
    "82. YrSold: Year Sold\n",
    "83. SaleType: Type of sale\n",
    "84. SaleCondition: Condition of sale"
   ]
  },
  {
   "cell_type": "markdown",
   "id": "18ab81fb",
   "metadata": {},
   "source": [
    "Описание набора данных\n",
    "Описания файлов\n",
    "\n",
    "1. train.csv — тренировочный набор\n",
    "2. test.csv — набор тестов\n",
    "3. data_description.txt — полное описание каждого столбца, первоначально подготовленное Дином Де Коком, но слегка отредактированное, чтобы соответствовать именам столбцов, использованным здесь.\n",
    "4. sample_submission.csv — эталонное представление, полученное на основе линейной регрессии по году и месяцу продажи, площади участка и количеству спален.\n",
    "\n",
    "Поля данных\n",
    "\n",
    "Краткий перечень данных, что можно найти в файле описания данных.\n",
    "\n",
    "5. SalePrice — цена продажи недвижимости в долларах. Это целевая переменная, которую вы пытаетесь предсказать.\n",
    "6. MSSubClass: класс здания.\n",
    "7. MSZoning: Общая классификация зонирования.\n",
    "8. LotFrontage: погонные футы улицы, соединенной с участком.\n",
    "9. LotArea: размер участка в квадратных футах.\n",
    "10. Улица: Тип подъезда к дороге\n",
    "11. Переулок: Тип доступа к переулку\n",
    "12. LotShape: Общий вид объекта недвижимости\n",
    "13. LandContour: Ровность участка\n",
    "14. Утилиты: Типы доступных утилит.\n",
    "15. LotConfig: конфигурация лота\n",
    "16. LandSlope: Уклон участка\n",
    "17. Район: физические местоположения в пределах города Эймс.\n",
    "18. Условие 1: Близость к главной дороге или железной дороге.\n",
    "19. Условие 2: Близость к главной дороге или железной дороге (при наличии второй)\n",
    "20. BldgType: Тип жилья\n",
    "21. HouseStyle: Стиль жилища\n",
    "22. TotalQual: общее качество материала и отделки.\n",
    "23. TotalCond: общая оценка состояния.\n",
    "24. Год постройки: дата первоначального строительства.\n",
    "25. YearRemodAdd: дата ремоделирования.\n",
    "26. RoofStyle: Тип крыши.\n",
    "27. RoofMatl: Материал крыши\n",
    "28. Экстерьер1st: Наружное покрытие дома\n",
    "29. Exterior2nd: Внешнее покрытие дома (если более одного материала)\n",
    "30. MasVnrType: тип каменной облицовки.\n",
    "31. MasVnrArea: площадь каменного шпона в квадратных футах.\n",
    "32. ExterQual: качество материалов экстерьера\n",
    "33. ExterCond: Текущее состояние материала снаружи.\n",
    "34. Фундамент: Тип фундамента\n",
    "35. BsmtQual: Высота подвала.\n",
    "36. BsmtCond: Общее состояние подвала.\n",
    "37. BsmtExposure: стены подвала на уровне сада или выходного этажа.\n",
    "38. BsmtFinType1: Качество готовой площади подвала.\n",
    "39. BsmtFinSF1: готовые квадратные футы типа 1.\n",
    "40. BsmtFinType2: качество второй готовой площади (если имеется).\n",
    "41. BsmtFinSF2: готовые квадратные футы типа 2.\n",
    "42. BsmtUnfSF: Недостроенные квадратные футы подвала.\n",
    "43. TotalBsmtSF: Общая площадь подвала в квадратных футах.\n",
    "44. Отопление: Тип отопления\n",
    "45. HeatingQC: качество и состояние отопления.\n",
    "46. CentralAir: Центральное кондиционирование.\n",
    "47. Электрика: Электрическая система\n",
    "48. 1stFlrSF: квадратные футы первого этажа.\n",
    "49. 2ndFlrSF: квадратные футы второго этажа.\n",
    "50. LowQualFinSF: квадратные футы с отделкой низкого качества (все этажи)\n",
    "51. GrLivArea: Жилая площадь над уровнем земли (в квадратных футах).\n",
    "52. BsmtFullBath: Полностью оборудованные ванные комнаты в подвале.\n",
    "53. BsmtHalfBath: Ванные комнаты в подвале.\n",
    "54. FullBath: полностью оборудованные ванные комнаты над уровнем моря.\n",
    "55. HalfBath: полуванны выше уровня.\n",
    "56. Спальня: Количество спален над цокольным этажом.\n",
    "57. Кухня: Количество кухонь\n",
    "58. KitchenQual: Качество кухни\n",
    "59. TotRmsAbvGrd: общее количество комнат выше уровня (без ванных комнат).\n",
    "60. Функционал: Рейтинг функциональности дома\n",
    "61. Камины: Количество каминов\n",
    "62. FireplaceQu: Качество камина\n",
    "63. GarageType: Расположение гаража\n",
    "64. GarageYrBlt: Год постройки гаража.\n",
    "65. GarageFinish: Внутренняя отделка гаража.\n",
    "66. GarageCars: Размер гаража по вместимости автомобиля.\n",
    "67. GarageArea: Размер гаража в квадратных футах.\n",
    "68. GarageQual: гаражное качество.\n",
    "69. GarageCond: состояние гаража.\n",
    "70. PavedDrive: Асфальтированная подъездная дорога\n",
    "71. WoodDeckSF: Площадь деревянного настила в квадратных футах.\n",
    "72. OpenPorchSF: площадь открытой веранды в квадратных футах.\n",
    "73. EnclosedPorch: площадь крытой веранды в квадратных футах.\n",
    "74. 3SsnPorch: Трехсезонная веранда в квадратных футах\n",
    "75. ScreenPorch: площадь веранды в квадратных футах.\n",
    "76. PoolArea: площадь бассейна в квадратных футах.\n",
    "77. PoolQC: качество бассейна\n",
    "78. Забор: Качество забора\n",
    "79. MiscFeature: Разные функции, не вошедшие в другие категории.\n",
    "80. MiscVal: $Значение различных функций.\n",
    "81. MoSold: месяц продажи\n",
    "82. YrSold: Год продажи\n",
    "83. SaleType: Тип продажи\n",
    "84. SaleCondition: Состояние "
   ]
  },
  {
   "cell_type": "markdown",
   "id": "b14228cf",
   "metadata": {},
   "source": [
    "3. Выполните предварительную обработку данных, выполнив следующие шаги: \n",
    "- a. Определите и обработайте отсутствующие значения в датасете. Определите, в каких столбцах есть отсутствующие значения, и решите, как их обработать (например, заполнить средним, медианой или модой, или отбросить столбцы/строки с существенными отсутствующими значениями). \n",
    "- b. Проверьте и обработайте любые дублирующиеся строки в датасете. \n",
    "- c. Проанализируйте типы данных в каждом столбце и при необходимости преобразуйте их (например, из объектных в числовые типы)."
   ]
  },
  {
   "cell_type": "code",
   "execution_count": null,
   "id": "855a843b-cba6-4641-ae4f-6906eb199ebc",
   "metadata": {},
   "outputs": [],
   "source": [
    "# Получаем первичную информацию о датасете\n",
    "df.head()"
   ]
  },
  {
   "cell_type": "code",
   "execution_count": null,
   "id": "0617178b-9de3-469c-b408-64fcd6a9bcfc",
   "metadata": {},
   "outputs": [],
   "source": [
    "# Получаем представление о данных\n",
    "df.info()"
   ]
  },
  {
   "cell_type": "code",
   "execution_count": null,
   "id": "f42e06ad-07db-4aa0-956e-ca9a2c9fe5f0",
   "metadata": {},
   "outputs": [],
   "source": [
    "# Проверка столбцов на отсутствие значений\n",
    "print(df.isnull().sum(axis=0))"
   ]
  },
  {
   "cell_type": "code",
   "execution_count": null,
   "id": "2508d876-8b23-4604-89a5-c7bc12378f8d",
   "metadata": {},
   "outputs": [],
   "source": [
    "# Проверка на наличие дубликатов\n",
    "duplicates = df.duplicated()\n",
    "duplicates_df = df[duplicates]\n",
    "duplicates_df"
   ]
  },
  {
   "cell_type": "code",
   "execution_count": null,
   "id": "66841cc2-ec98-4aa0-b0fc-9916f0518535",
   "metadata": {},
   "outputs": [],
   "source": [
    "# Краткий отчет по датафрейму\n",
    "df.describe()"
   ]
  },
  {
   "cell_type": "code",
   "execution_count": 11,
   "id": "1be70a20-52d0-46bd-bbe8-0ab806857159",
   "metadata": {},
   "outputs": [],
   "source": [
    "# Замена пустых значений"
   ]
  },
  {
   "cell_type": "code",
   "execution_count": null,
   "id": "3a965354-66ca-4a2f-95fa-6f6acae0b838",
   "metadata": {},
   "outputs": [],
   "source": [
    "# Поле 'LotFrontage' (Погонные футы улицы, соединенной с участком)\n",
    "df.groupby(['LotFrontage']).agg({'Id': ['count']})"
   ]
  },
  {
   "cell_type": "code",
   "execution_count": 13,
   "id": "c2dc2dec-a3b4-4f8b-a350-db810073a521",
   "metadata": {},
   "outputs": [],
   "source": [
    "# Заполним недостающие значения медианным значением\n",
    "median_lotfrontage = df['LotFrontage'].median()\n",
    "df['LotFrontage'] = df['LotFrontage'].fillna(median_lotfrontage)"
   ]
  },
  {
   "cell_type": "code",
   "execution_count": 64,
   "id": "5d59430e-6c2a-421e-ba62-ac2e3346625d",
   "metadata": {},
   "outputs": [],
   "source": [
    "# Округлим полученные значения \n",
    "df['LotFrontage'] = df['LotFrontage'].round()\n",
    "# Затем преобразуем округленные значения в int\n",
    "df['LotFrontage'] = df['LotFrontage'].astype(int)\n"
   ]
  },
  {
   "cell_type": "code",
   "execution_count": 65,
   "id": "4fb37282-d5a2-49eb-bd9c-a7077b5372ff",
   "metadata": {},
   "outputs": [
    {
     "name": "stdout",
     "output_type": "stream",
     "text": [
      "<class 'pandas.core.series.Series'>\n",
      "RangeIndex: 1460 entries, 0 to 1459\n",
      "Series name: Alley\n",
      "Non-Null Count  Dtype \n",
      "--------------  ----- \n",
      "1460 non-null   object\n",
      "dtypes: object(1)\n",
      "memory usage: 11.5+ KB\n"
     ]
    },
    {
     "data": {
      "text/plain": [
       "array(['NA', 'Grvl', 'Pave'], dtype=object)"
      ]
     },
     "execution_count": 65,
     "metadata": {},
     "output_type": "execute_result"
    }
   ],
   "source": [
    "# Поле 'Alley' (Тип доступа к переулку)\n",
    "df['Alley'].info() # Определяем тип данных, количество значений\n",
    "df['Alley'].unique() # Поиск уникальных значений"
   ]
  },
  {
   "cell_type": "code",
   "execution_count": 66,
   "id": "0dabed4f-58d2-449b-ad23-84f598c11adb",
   "metadata": {},
   "outputs": [],
   "source": [
    "# Заполним недостающие значения строкой 'NA'\n",
    "df['Alley'] = df['Alley'].fillna('NA')"
   ]
  },
  {
   "cell_type": "code",
   "execution_count": 67,
   "id": "947f04ba-df39-4750-b937-596ebde0c741",
   "metadata": {},
   "outputs": [
    {
     "name": "stdout",
     "output_type": "stream",
     "text": [
      "<class 'pandas.core.series.Series'>\n",
      "RangeIndex: 1460 entries, 0 to 1459\n",
      "Series name: MasVnrType\n",
      "Non-Null Count  Dtype \n",
      "--------------  ----- \n",
      "1460 non-null   object\n",
      "dtypes: object(1)\n",
      "memory usage: 11.5+ KB\n"
     ]
    },
    {
     "data": {
      "text/plain": [
       "array(['BrkFace', 'None', 'Stone', 'BrkCmn', 'NA'], dtype=object)"
      ]
     },
     "execution_count": 67,
     "metadata": {},
     "output_type": "execute_result"
    }
   ],
   "source": [
    "# Обработка для столбца MasVnrType: Masonry veneer type(Тип кладки: Тип каменной облицовки):\n",
    "df['MasVnrType'].info() # Определяем тип данных, количество значений\n",
    "df['MasVnrType'].unique() # Поиск уникальных значений"
   ]
  },
  {
   "cell_type": "code",
   "execution_count": 68,
   "id": "72643614-fb61-4c31-91c2-375cfdd33739",
   "metadata": {},
   "outputs": [],
   "source": [
    "# Заполним недостающие значения строкой 'NA'\n",
    "df['MasVnrType'] = df['MasVnrType'].fillna('NA')"
   ]
  },
  {
   "cell_type": "code",
   "execution_count": 69,
   "id": "128fdfd0-6520-4973-9dea-98cfb2b587c9",
   "metadata": {},
   "outputs": [
    {
     "name": "stdout",
     "output_type": "stream",
     "text": [
      "<class 'pandas.core.series.Series'>\n",
      "RangeIndex: 1460 entries, 0 to 1459\n",
      "Series name: FireplaceQu\n",
      "Non-Null Count  Dtype \n",
      "--------------  ----- \n",
      "1460 non-null   object\n",
      "dtypes: object(1)\n",
      "memory usage: 11.5+ KB\n"
     ]
    },
    {
     "data": {
      "text/plain": [
       "array(['NA', 'TA', 'Gd', 'Fa', 'Ex', 'Po'], dtype=object)"
      ]
     },
     "execution_count": 69,
     "metadata": {},
     "output_type": "execute_result"
    }
   ],
   "source": [
    "# Поле 'FireplaceQu' (Качество камина)\n",
    "df['FireplaceQu'].info() # Определяем тип данных, количество значений\n",
    "df['FireplaceQu'].unique() # Поиск уникальных значений"
   ]
  },
  {
   "cell_type": "code",
   "execution_count": 70,
   "id": "35ca3657-4f7c-4fd8-8a18-2ce08b2625da",
   "metadata": {},
   "outputs": [],
   "source": [
    "# Заполним недостающие значения строкой 'NA'\n",
    "df['FireplaceQu'] = df['FireplaceQu'].fillna('NA')"
   ]
  },
  {
   "cell_type": "code",
   "execution_count": 71,
   "id": "a281980e-3212-48c3-9ed5-35cee0213f92",
   "metadata": {},
   "outputs": [
    {
     "data": {
      "text/html": [
       "<div>\n",
       "<style scoped>\n",
       "    .dataframe tbody tr th:only-of-type {\n",
       "        vertical-align: middle;\n",
       "    }\n",
       "\n",
       "    .dataframe tbody tr th {\n",
       "        vertical-align: top;\n",
       "    }\n",
       "\n",
       "    .dataframe thead tr th {\n",
       "        text-align: left;\n",
       "    }\n",
       "\n",
       "    .dataframe thead tr:last-of-type th {\n",
       "        text-align: right;\n",
       "    }\n",
       "</style>\n",
       "<table border=\"1\" class=\"dataframe\">\n",
       "  <thead>\n",
       "    <tr>\n",
       "      <th></th>\n",
       "      <th>Id</th>\n",
       "    </tr>\n",
       "    <tr>\n",
       "      <th></th>\n",
       "      <th>count</th>\n",
       "    </tr>\n",
       "    <tr>\n",
       "      <th>MasVnrArea</th>\n",
       "      <th></th>\n",
       "    </tr>\n",
       "  </thead>\n",
       "  <tbody>\n",
       "    <tr>\n",
       "      <th>0.0</th>\n",
       "      <td>869</td>\n",
       "    </tr>\n",
       "    <tr>\n",
       "      <th>1.0</th>\n",
       "      <td>2</td>\n",
       "    </tr>\n",
       "    <tr>\n",
       "      <th>11.0</th>\n",
       "      <td>1</td>\n",
       "    </tr>\n",
       "    <tr>\n",
       "      <th>14.0</th>\n",
       "      <td>1</td>\n",
       "    </tr>\n",
       "    <tr>\n",
       "      <th>16.0</th>\n",
       "      <td>7</td>\n",
       "    </tr>\n",
       "    <tr>\n",
       "      <th>...</th>\n",
       "      <td>...</td>\n",
       "    </tr>\n",
       "    <tr>\n",
       "      <th>1115.0</th>\n",
       "      <td>1</td>\n",
       "    </tr>\n",
       "    <tr>\n",
       "      <th>1129.0</th>\n",
       "      <td>1</td>\n",
       "    </tr>\n",
       "    <tr>\n",
       "      <th>1170.0</th>\n",
       "      <td>1</td>\n",
       "    </tr>\n",
       "    <tr>\n",
       "      <th>1378.0</th>\n",
       "      <td>1</td>\n",
       "    </tr>\n",
       "    <tr>\n",
       "      <th>1600.0</th>\n",
       "      <td>1</td>\n",
       "    </tr>\n",
       "  </tbody>\n",
       "</table>\n",
       "<p>327 rows × 1 columns</p>\n",
       "</div>"
      ],
      "text/plain": [
       "              Id\n",
       "           count\n",
       "MasVnrArea      \n",
       "0.0          869\n",
       "1.0            2\n",
       "11.0           1\n",
       "14.0           1\n",
       "16.0           7\n",
       "...          ...\n",
       "1115.0         1\n",
       "1129.0         1\n",
       "1170.0         1\n",
       "1378.0         1\n",
       "1600.0         1\n",
       "\n",
       "[327 rows x 1 columns]"
      ]
     },
     "execution_count": 71,
     "metadata": {},
     "output_type": "execute_result"
    }
   ],
   "source": [
    "# Поле 'MasVnrArea' (Площадь каменного шпона в квадратных футах)\n",
    "df.groupby(['MasVnrArea']).agg({'Id': ['count']})"
   ]
  },
  {
   "cell_type": "code",
   "execution_count": 72,
   "id": "4e678b10-b961-471e-986d-945a0d0fe666",
   "metadata": {},
   "outputs": [],
   "source": [
    "# Заполним недостающие значения 0 (нулем)\n",
    "df['MasVnrArea'] = df['MasVnrArea'].fillna(0)"
   ]
  },
  {
   "cell_type": "code",
   "execution_count": 73,
   "id": "b500c406-ceae-4b4c-8442-c267bb9f0824",
   "metadata": {},
   "outputs": [
    {
     "data": {
      "text/html": [
       "<div>\n",
       "<style scoped>\n",
       "    .dataframe tbody tr th:only-of-type {\n",
       "        vertical-align: middle;\n",
       "    }\n",
       "\n",
       "    .dataframe tbody tr th {\n",
       "        vertical-align: top;\n",
       "    }\n",
       "\n",
       "    .dataframe thead tr th {\n",
       "        text-align: left;\n",
       "    }\n",
       "\n",
       "    .dataframe thead tr:last-of-type th {\n",
       "        text-align: right;\n",
       "    }\n",
       "</style>\n",
       "<table border=\"1\" class=\"dataframe\">\n",
       "  <thead>\n",
       "    <tr>\n",
       "      <th></th>\n",
       "      <th>Id</th>\n",
       "    </tr>\n",
       "    <tr>\n",
       "      <th></th>\n",
       "      <th>count</th>\n",
       "    </tr>\n",
       "    <tr>\n",
       "      <th>BsmtQual</th>\n",
       "      <th></th>\n",
       "    </tr>\n",
       "  </thead>\n",
       "  <tbody>\n",
       "    <tr>\n",
       "      <th>Ex</th>\n",
       "      <td>121</td>\n",
       "    </tr>\n",
       "    <tr>\n",
       "      <th>Fa</th>\n",
       "      <td>35</td>\n",
       "    </tr>\n",
       "    <tr>\n",
       "      <th>Gd</th>\n",
       "      <td>618</td>\n",
       "    </tr>\n",
       "    <tr>\n",
       "      <th>NA</th>\n",
       "      <td>37</td>\n",
       "    </tr>\n",
       "    <tr>\n",
       "      <th>TA</th>\n",
       "      <td>649</td>\n",
       "    </tr>\n",
       "  </tbody>\n",
       "</table>\n",
       "</div>"
      ],
      "text/plain": [
       "            Id\n",
       "         count\n",
       "BsmtQual      \n",
       "Ex         121\n",
       "Fa          35\n",
       "Gd         618\n",
       "NA          37\n",
       "TA         649"
      ]
     },
     "execution_count": 73,
     "metadata": {},
     "output_type": "execute_result"
    }
   ],
   "source": [
    "# Поле 'BsmtQual' (Технические характеристики: Высота подвала)\n",
    "df.groupby(['BsmtQual']).agg({'Id': ['count']})"
   ]
  },
  {
   "cell_type": "code",
   "execution_count": 74,
   "id": "2c830481-17aa-47a9-9f6f-cbf824643e79",
   "metadata": {},
   "outputs": [],
   "source": [
    "# Заполним недостающие значения строкой 'NA'\n",
    "df['BsmtQual'] = df['BsmtQual'].fillna('NA')"
   ]
  },
  {
   "cell_type": "code",
   "execution_count": 75,
   "id": "34bb3f76-dca3-4ed3-9fb8-95f87b008d22",
   "metadata": {},
   "outputs": [
    {
     "data": {
      "text/html": [
       "<div>\n",
       "<style scoped>\n",
       "    .dataframe tbody tr th:only-of-type {\n",
       "        vertical-align: middle;\n",
       "    }\n",
       "\n",
       "    .dataframe tbody tr th {\n",
       "        vertical-align: top;\n",
       "    }\n",
       "\n",
       "    .dataframe thead tr th {\n",
       "        text-align: left;\n",
       "    }\n",
       "\n",
       "    .dataframe thead tr:last-of-type th {\n",
       "        text-align: right;\n",
       "    }\n",
       "</style>\n",
       "<table border=\"1\" class=\"dataframe\">\n",
       "  <thead>\n",
       "    <tr>\n",
       "      <th></th>\n",
       "      <th>Id</th>\n",
       "    </tr>\n",
       "    <tr>\n",
       "      <th></th>\n",
       "      <th>count</th>\n",
       "    </tr>\n",
       "    <tr>\n",
       "      <th>BsmtCond</th>\n",
       "      <th></th>\n",
       "    </tr>\n",
       "  </thead>\n",
       "  <tbody>\n",
       "    <tr>\n",
       "      <th>Fa</th>\n",
       "      <td>45</td>\n",
       "    </tr>\n",
       "    <tr>\n",
       "      <th>Gd</th>\n",
       "      <td>65</td>\n",
       "    </tr>\n",
       "    <tr>\n",
       "      <th>NA</th>\n",
       "      <td>37</td>\n",
       "    </tr>\n",
       "    <tr>\n",
       "      <th>Po</th>\n",
       "      <td>2</td>\n",
       "    </tr>\n",
       "    <tr>\n",
       "      <th>TA</th>\n",
       "      <td>1311</td>\n",
       "    </tr>\n",
       "  </tbody>\n",
       "</table>\n",
       "</div>"
      ],
      "text/plain": [
       "            Id\n",
       "         count\n",
       "BsmtCond      \n",
       "Fa          45\n",
       "Gd          65\n",
       "NA          37\n",
       "Po           2\n",
       "TA        1311"
      ]
     },
     "execution_count": 75,
     "metadata": {},
     "output_type": "execute_result"
    }
   ],
   "source": [
    "# Поле 'BsmtCond' (Общее состояние подвала)\n",
    "df.groupby(['BsmtCond']).agg({'Id': ['count']})"
   ]
  },
  {
   "cell_type": "code",
   "execution_count": 76,
   "id": "b3320fa2-6120-4de3-bc32-698cf6359634",
   "metadata": {},
   "outputs": [],
   "source": [
    "# Заполним недостающие значения строкой 'NA'\n",
    "df['BsmtCond'] = df['BsmtCond'].fillna('NA')"
   ]
  },
  {
   "cell_type": "code",
   "execution_count": 77,
   "id": "73b23af1-8320-457a-84de-8abde38f392f",
   "metadata": {},
   "outputs": [
    {
     "data": {
      "text/html": [
       "<div>\n",
       "<style scoped>\n",
       "    .dataframe tbody tr th:only-of-type {\n",
       "        vertical-align: middle;\n",
       "    }\n",
       "\n",
       "    .dataframe tbody tr th {\n",
       "        vertical-align: top;\n",
       "    }\n",
       "\n",
       "    .dataframe thead tr th {\n",
       "        text-align: left;\n",
       "    }\n",
       "\n",
       "    .dataframe thead tr:last-of-type th {\n",
       "        text-align: right;\n",
       "    }\n",
       "</style>\n",
       "<table border=\"1\" class=\"dataframe\">\n",
       "  <thead>\n",
       "    <tr>\n",
       "      <th></th>\n",
       "      <th>Id</th>\n",
       "    </tr>\n",
       "    <tr>\n",
       "      <th></th>\n",
       "      <th>count</th>\n",
       "    </tr>\n",
       "    <tr>\n",
       "      <th>BsmtExposure</th>\n",
       "      <th></th>\n",
       "    </tr>\n",
       "  </thead>\n",
       "  <tbody>\n",
       "    <tr>\n",
       "      <th>Av</th>\n",
       "      <td>221</td>\n",
       "    </tr>\n",
       "    <tr>\n",
       "      <th>Gd</th>\n",
       "      <td>134</td>\n",
       "    </tr>\n",
       "    <tr>\n",
       "      <th>Mn</th>\n",
       "      <td>114</td>\n",
       "    </tr>\n",
       "    <tr>\n",
       "      <th>NA</th>\n",
       "      <td>38</td>\n",
       "    </tr>\n",
       "    <tr>\n",
       "      <th>No</th>\n",
       "      <td>953</td>\n",
       "    </tr>\n",
       "  </tbody>\n",
       "</table>\n",
       "</div>"
      ],
      "text/plain": [
       "                Id\n",
       "             count\n",
       "BsmtExposure      \n",
       "Av             221\n",
       "Gd             134\n",
       "Mn             114\n",
       "NA              38\n",
       "No             953"
      ]
     },
     "execution_count": 77,
     "metadata": {},
     "output_type": "execute_result"
    }
   ],
   "source": [
    "# Поле 'BsmtExposure' (Внутреннее убранство: Стены подвала на уровне сада или выходного этажа)\n",
    "df.groupby(['BsmtExposure']).agg({'Id': ['count']})"
   ]
  },
  {
   "cell_type": "code",
   "execution_count": 78,
   "id": "3de7915a-3ff0-450a-adc7-87b240158fba",
   "metadata": {},
   "outputs": [],
   "source": [
    "# Заполним недостающие значения строкой 'NA'\n",
    "df['BsmtExposure'] = df['BsmtExposure'].fillna('NA')"
   ]
  },
  {
   "cell_type": "code",
   "execution_count": 79,
   "id": "a5711714-e71d-4123-a7fd-d1aeb7e0ad3b",
   "metadata": {},
   "outputs": [
    {
     "data": {
      "text/html": [
       "<div>\n",
       "<style scoped>\n",
       "    .dataframe tbody tr th:only-of-type {\n",
       "        vertical-align: middle;\n",
       "    }\n",
       "\n",
       "    .dataframe tbody tr th {\n",
       "        vertical-align: top;\n",
       "    }\n",
       "\n",
       "    .dataframe thead tr th {\n",
       "        text-align: left;\n",
       "    }\n",
       "\n",
       "    .dataframe thead tr:last-of-type th {\n",
       "        text-align: right;\n",
       "    }\n",
       "</style>\n",
       "<table border=\"1\" class=\"dataframe\">\n",
       "  <thead>\n",
       "    <tr>\n",
       "      <th></th>\n",
       "      <th>Id</th>\n",
       "    </tr>\n",
       "    <tr>\n",
       "      <th></th>\n",
       "      <th>count</th>\n",
       "    </tr>\n",
       "    <tr>\n",
       "      <th>BsmtFinType1</th>\n",
       "      <th></th>\n",
       "    </tr>\n",
       "  </thead>\n",
       "  <tbody>\n",
       "    <tr>\n",
       "      <th>ALQ</th>\n",
       "      <td>220</td>\n",
       "    </tr>\n",
       "    <tr>\n",
       "      <th>BLQ</th>\n",
       "      <td>148</td>\n",
       "    </tr>\n",
       "    <tr>\n",
       "      <th>GLQ</th>\n",
       "      <td>418</td>\n",
       "    </tr>\n",
       "    <tr>\n",
       "      <th>LwQ</th>\n",
       "      <td>74</td>\n",
       "    </tr>\n",
       "    <tr>\n",
       "      <th>NA</th>\n",
       "      <td>37</td>\n",
       "    </tr>\n",
       "    <tr>\n",
       "      <th>Rec</th>\n",
       "      <td>133</td>\n",
       "    </tr>\n",
       "    <tr>\n",
       "      <th>Unf</th>\n",
       "      <td>430</td>\n",
       "    </tr>\n",
       "  </tbody>\n",
       "</table>\n",
       "</div>"
      ],
      "text/plain": [
       "                Id\n",
       "             count\n",
       "BsmtFinType1      \n",
       "ALQ            220\n",
       "BLQ            148\n",
       "GLQ            418\n",
       "LwQ             74\n",
       "NA              37\n",
       "Rec            133\n",
       "Unf            430"
      ]
     },
     "execution_count": 79,
     "metadata": {},
     "output_type": "execute_result"
    }
   ],
   "source": [
    "# Поле 'BsmtFinType1' (Качество готовой площади подвала)\n",
    "df.groupby(['BsmtFinType1']).agg({'Id': ['count']})"
   ]
  },
  {
   "cell_type": "code",
   "execution_count": 80,
   "id": "cf5f71b7-237b-440b-8e13-5cdc533728bd",
   "metadata": {},
   "outputs": [],
   "source": [
    "# Заполним недостающие значения строкой 'NA'\n",
    "df['BsmtFinType1'] = df['BsmtFinType1'].fillna('NA')"
   ]
  },
  {
   "cell_type": "code",
   "execution_count": 81,
   "id": "fa73a201-b883-4ce8-aa0b-06acfc75373f",
   "metadata": {},
   "outputs": [
    {
     "data": {
      "text/html": [
       "<div>\n",
       "<style scoped>\n",
       "    .dataframe tbody tr th:only-of-type {\n",
       "        vertical-align: middle;\n",
       "    }\n",
       "\n",
       "    .dataframe tbody tr th {\n",
       "        vertical-align: top;\n",
       "    }\n",
       "\n",
       "    .dataframe thead tr th {\n",
       "        text-align: left;\n",
       "    }\n",
       "\n",
       "    .dataframe thead tr:last-of-type th {\n",
       "        text-align: right;\n",
       "    }\n",
       "</style>\n",
       "<table border=\"1\" class=\"dataframe\">\n",
       "  <thead>\n",
       "    <tr>\n",
       "      <th></th>\n",
       "      <th>Id</th>\n",
       "    </tr>\n",
       "    <tr>\n",
       "      <th></th>\n",
       "      <th>count</th>\n",
       "    </tr>\n",
       "    <tr>\n",
       "      <th>BsmtFinType2</th>\n",
       "      <th></th>\n",
       "    </tr>\n",
       "  </thead>\n",
       "  <tbody>\n",
       "    <tr>\n",
       "      <th>ALQ</th>\n",
       "      <td>19</td>\n",
       "    </tr>\n",
       "    <tr>\n",
       "      <th>BLQ</th>\n",
       "      <td>33</td>\n",
       "    </tr>\n",
       "    <tr>\n",
       "      <th>GLQ</th>\n",
       "      <td>14</td>\n",
       "    </tr>\n",
       "    <tr>\n",
       "      <th>LwQ</th>\n",
       "      <td>46</td>\n",
       "    </tr>\n",
       "    <tr>\n",
       "      <th>NA</th>\n",
       "      <td>38</td>\n",
       "    </tr>\n",
       "    <tr>\n",
       "      <th>Rec</th>\n",
       "      <td>54</td>\n",
       "    </tr>\n",
       "    <tr>\n",
       "      <th>Unf</th>\n",
       "      <td>1256</td>\n",
       "    </tr>\n",
       "  </tbody>\n",
       "</table>\n",
       "</div>"
      ],
      "text/plain": [
       "                Id\n",
       "             count\n",
       "BsmtFinType2      \n",
       "ALQ             19\n",
       "BLQ             33\n",
       "GLQ             14\n",
       "LwQ             46\n",
       "NA              38\n",
       "Rec             54\n",
       "Unf           1256"
      ]
     },
     "execution_count": 81,
     "metadata": {},
     "output_type": "execute_result"
    }
   ],
   "source": [
    "# Поле 'BsmtFinType2' (Качество второй законченной области (если имеется))\n",
    "df.groupby(['BsmtFinType2']).agg({'Id': ['count']})"
   ]
  },
  {
   "cell_type": "code",
   "execution_count": 82,
   "id": "397beb83-0f8e-4247-9f83-d08b246024e9",
   "metadata": {},
   "outputs": [],
   "source": [
    "# Заполним недостающие значения строкой 'NA'\n",
    "df['BsmtFinType2'] = df['BsmtFinType2'].fillna('NA')"
   ]
  },
  {
   "cell_type": "code",
   "execution_count": 83,
   "id": "30715559-3887-430d-b5bb-6d6781c316fc",
   "metadata": {},
   "outputs": [
    {
     "name": "stdout",
     "output_type": "stream",
     "text": [
      "<class 'pandas.core.series.Series'>\n",
      "RangeIndex: 1460 entries, 0 to 1459\n",
      "Series name: Electrical\n",
      "Non-Null Count  Dtype \n",
      "--------------  ----- \n",
      "1460 non-null   object\n",
      "dtypes: object(1)\n",
      "memory usage: 11.5+ KB\n"
     ]
    },
    {
     "data": {
      "text/plain": [
       "array(['SBrkr', 'FuseF', 'FuseA', 'FuseP', 'Mix'], dtype=object)"
      ]
     },
     "execution_count": 83,
     "metadata": {},
     "output_type": "execute_result"
    }
   ],
   "source": [
    "# Поле 'Electrical' (Электрическая система)\n",
    "df['Electrical'].info() # Определяем тип данных, количество значений\n",
    "df['Electrical'].unique() # Поиск уникальных значений"
   ]
  },
  {
   "cell_type": "code",
   "execution_count": 84,
   "id": "10257e8b-2866-40cd-8f48-c3d74e8698b9",
   "metadata": {},
   "outputs": [
    {
     "data": {
      "text/plain": [
       "array(['SBrkr', 'FuseF', 'FuseA', 'FuseP', 'Mix'], dtype=object)"
      ]
     },
     "execution_count": 84,
     "metadata": {},
     "output_type": "execute_result"
    }
   ],
   "source": [
    "# Заполнение пропущенных значений в столбце наиболее распространенным значением\n",
    "df['Electrical'] = df['Electrical'].fillna(df['Electrical'].mode().iloc[0])\n",
    "# Проверяем\n",
    "df['Electrical'].unique()"
   ]
  },
  {
   "cell_type": "code",
   "execution_count": 85,
   "id": "4fdb052b-0cc6-4e65-8a7f-e9d9970d44a5",
   "metadata": {},
   "outputs": [
    {
     "data": {
      "text/html": [
       "<div>\n",
       "<style scoped>\n",
       "    .dataframe tbody tr th:only-of-type {\n",
       "        vertical-align: middle;\n",
       "    }\n",
       "\n",
       "    .dataframe tbody tr th {\n",
       "        vertical-align: top;\n",
       "    }\n",
       "\n",
       "    .dataframe thead tr th {\n",
       "        text-align: left;\n",
       "    }\n",
       "\n",
       "    .dataframe thead tr:last-of-type th {\n",
       "        text-align: right;\n",
       "    }\n",
       "</style>\n",
       "<table border=\"1\" class=\"dataframe\">\n",
       "  <thead>\n",
       "    <tr>\n",
       "      <th></th>\n",
       "      <th>Id</th>\n",
       "    </tr>\n",
       "    <tr>\n",
       "      <th></th>\n",
       "      <th>count</th>\n",
       "    </tr>\n",
       "    <tr>\n",
       "      <th>GarageType</th>\n",
       "      <th></th>\n",
       "    </tr>\n",
       "  </thead>\n",
       "  <tbody>\n",
       "    <tr>\n",
       "      <th>2Types</th>\n",
       "      <td>6</td>\n",
       "    </tr>\n",
       "    <tr>\n",
       "      <th>Attchd</th>\n",
       "      <td>870</td>\n",
       "    </tr>\n",
       "    <tr>\n",
       "      <th>Basment</th>\n",
       "      <td>19</td>\n",
       "    </tr>\n",
       "    <tr>\n",
       "      <th>BuiltIn</th>\n",
       "      <td>88</td>\n",
       "    </tr>\n",
       "    <tr>\n",
       "      <th>CarPort</th>\n",
       "      <td>9</td>\n",
       "    </tr>\n",
       "    <tr>\n",
       "      <th>Detchd</th>\n",
       "      <td>387</td>\n",
       "    </tr>\n",
       "    <tr>\n",
       "      <th>NA</th>\n",
       "      <td>81</td>\n",
       "    </tr>\n",
       "  </tbody>\n",
       "</table>\n",
       "</div>"
      ],
      "text/plain": [
       "              Id\n",
       "           count\n",
       "GarageType      \n",
       "2Types         6\n",
       "Attchd       870\n",
       "Basment       19\n",
       "BuiltIn       88\n",
       "CarPort        9\n",
       "Detchd       387\n",
       "NA            81"
      ]
     },
     "execution_count": 85,
     "metadata": {},
     "output_type": "execute_result"
    }
   ],
   "source": [
    "# Поле 'GarageType' (Расположение гаража)\n",
    "df.groupby(['GarageType']).agg({'Id': ['count']})"
   ]
  },
  {
   "cell_type": "code",
   "execution_count": 86,
   "id": "f0ea6d0f-7840-4c66-981e-1d080e2d36bc",
   "metadata": {},
   "outputs": [],
   "source": [
    "# Заполним недостающие значения строкой 'NA'\n",
    "df['GarageType'] = df['GarageType'].fillna('NA')"
   ]
  },
  {
   "cell_type": "code",
   "execution_count": 87,
   "id": "0dccb338-a771-4d39-b984-f0ee502dd733",
   "metadata": {},
   "outputs": [
    {
     "data": {
      "text/html": [
       "<div>\n",
       "<style scoped>\n",
       "    .dataframe tbody tr th:only-of-type {\n",
       "        vertical-align: middle;\n",
       "    }\n",
       "\n",
       "    .dataframe tbody tr th {\n",
       "        vertical-align: top;\n",
       "    }\n",
       "\n",
       "    .dataframe thead tr th {\n",
       "        text-align: left;\n",
       "    }\n",
       "\n",
       "    .dataframe thead tr:last-of-type th {\n",
       "        text-align: right;\n",
       "    }\n",
       "</style>\n",
       "<table border=\"1\" class=\"dataframe\">\n",
       "  <thead>\n",
       "    <tr>\n",
       "      <th></th>\n",
       "      <th>Id</th>\n",
       "    </tr>\n",
       "    <tr>\n",
       "      <th></th>\n",
       "      <th>count</th>\n",
       "    </tr>\n",
       "    <tr>\n",
       "      <th>GarageYrBlt</th>\n",
       "      <th></th>\n",
       "    </tr>\n",
       "  </thead>\n",
       "  <tbody>\n",
       "    <tr>\n",
       "      <th>0.0</th>\n",
       "      <td>81</td>\n",
       "    </tr>\n",
       "    <tr>\n",
       "      <th>1900.0</th>\n",
       "      <td>1</td>\n",
       "    </tr>\n",
       "    <tr>\n",
       "      <th>1906.0</th>\n",
       "      <td>1</td>\n",
       "    </tr>\n",
       "    <tr>\n",
       "      <th>1908.0</th>\n",
       "      <td>1</td>\n",
       "    </tr>\n",
       "    <tr>\n",
       "      <th>1910.0</th>\n",
       "      <td>3</td>\n",
       "    </tr>\n",
       "    <tr>\n",
       "      <th>...</th>\n",
       "      <td>...</td>\n",
       "    </tr>\n",
       "    <tr>\n",
       "      <th>2006.0</th>\n",
       "      <td>59</td>\n",
       "    </tr>\n",
       "    <tr>\n",
       "      <th>2007.0</th>\n",
       "      <td>49</td>\n",
       "    </tr>\n",
       "    <tr>\n",
       "      <th>2008.0</th>\n",
       "      <td>29</td>\n",
       "    </tr>\n",
       "    <tr>\n",
       "      <th>2009.0</th>\n",
       "      <td>21</td>\n",
       "    </tr>\n",
       "    <tr>\n",
       "      <th>2010.0</th>\n",
       "      <td>3</td>\n",
       "    </tr>\n",
       "  </tbody>\n",
       "</table>\n",
       "<p>98 rows × 1 columns</p>\n",
       "</div>"
      ],
      "text/plain": [
       "               Id\n",
       "            count\n",
       "GarageYrBlt      \n",
       "0.0            81\n",
       "1900.0          1\n",
       "1906.0          1\n",
       "1908.0          1\n",
       "1910.0          3\n",
       "...           ...\n",
       "2006.0         59\n",
       "2007.0         49\n",
       "2008.0         29\n",
       "2009.0         21\n",
       "2010.0          3\n",
       "\n",
       "[98 rows x 1 columns]"
      ]
     },
     "execution_count": 87,
     "metadata": {},
     "output_type": "execute_result"
    }
   ],
   "source": [
    "# Поле 'GarageYrBlt' (Год постройки гаража)\n",
    "df.groupby(['GarageYrBlt']).agg({'Id': ['count']})"
   ]
  },
  {
   "cell_type": "code",
   "execution_count": 88,
   "id": "730cdc44-b730-49c4-8d8c-e02736ae0b39",
   "metadata": {},
   "outputs": [],
   "source": [
    "# Заполним недостающие значения 0 (нулем)\n",
    "df['GarageYrBlt'] = df['GarageYrBlt'].fillna(0)"
   ]
  },
  {
   "cell_type": "code",
   "execution_count": 89,
   "id": "b49d260b-aa28-4522-9cce-33196d882935",
   "metadata": {},
   "outputs": [
    {
     "data": {
      "text/html": [
       "<div>\n",
       "<style scoped>\n",
       "    .dataframe tbody tr th:only-of-type {\n",
       "        vertical-align: middle;\n",
       "    }\n",
       "\n",
       "    .dataframe tbody tr th {\n",
       "        vertical-align: top;\n",
       "    }\n",
       "\n",
       "    .dataframe thead tr th {\n",
       "        text-align: left;\n",
       "    }\n",
       "\n",
       "    .dataframe thead tr:last-of-type th {\n",
       "        text-align: right;\n",
       "    }\n",
       "</style>\n",
       "<table border=\"1\" class=\"dataframe\">\n",
       "  <thead>\n",
       "    <tr>\n",
       "      <th></th>\n",
       "      <th>Id</th>\n",
       "    </tr>\n",
       "    <tr>\n",
       "      <th></th>\n",
       "      <th>count</th>\n",
       "    </tr>\n",
       "    <tr>\n",
       "      <th>GarageFinish</th>\n",
       "      <th></th>\n",
       "    </tr>\n",
       "  </thead>\n",
       "  <tbody>\n",
       "    <tr>\n",
       "      <th>Fin</th>\n",
       "      <td>352</td>\n",
       "    </tr>\n",
       "    <tr>\n",
       "      <th>NA</th>\n",
       "      <td>81</td>\n",
       "    </tr>\n",
       "    <tr>\n",
       "      <th>RFn</th>\n",
       "      <td>422</td>\n",
       "    </tr>\n",
       "    <tr>\n",
       "      <th>Unf</th>\n",
       "      <td>605</td>\n",
       "    </tr>\n",
       "  </tbody>\n",
       "</table>\n",
       "</div>"
      ],
      "text/plain": [
       "                Id\n",
       "             count\n",
       "GarageFinish      \n",
       "Fin            352\n",
       "NA              81\n",
       "RFn            422\n",
       "Unf            605"
      ]
     },
     "execution_count": 89,
     "metadata": {},
     "output_type": "execute_result"
    }
   ],
   "source": [
    "# Поле 'GarageFinish' (Внутренняя отделка гаража)\n",
    "df.groupby(['GarageFinish']).agg({'Id': ['count']})"
   ]
  },
  {
   "cell_type": "code",
   "execution_count": 90,
   "id": "6b404039-692f-4bc5-a64c-fbd5d41ab40b",
   "metadata": {},
   "outputs": [],
   "source": [
    "# Заполним недостающие значения строкой 'NA'\n",
    "df['GarageFinish'] = df['GarageFinish'].fillna('NA')"
   ]
  },
  {
   "cell_type": "code",
   "execution_count": 91,
   "id": "b1bd240c-006d-470d-a261-3d2923421e8d",
   "metadata": {},
   "outputs": [
    {
     "data": {
      "text/html": [
       "<div>\n",
       "<style scoped>\n",
       "    .dataframe tbody tr th:only-of-type {\n",
       "        vertical-align: middle;\n",
       "    }\n",
       "\n",
       "    .dataframe tbody tr th {\n",
       "        vertical-align: top;\n",
       "    }\n",
       "\n",
       "    .dataframe thead tr th {\n",
       "        text-align: left;\n",
       "    }\n",
       "\n",
       "    .dataframe thead tr:last-of-type th {\n",
       "        text-align: right;\n",
       "    }\n",
       "</style>\n",
       "<table border=\"1\" class=\"dataframe\">\n",
       "  <thead>\n",
       "    <tr>\n",
       "      <th></th>\n",
       "      <th>Id</th>\n",
       "    </tr>\n",
       "    <tr>\n",
       "      <th></th>\n",
       "      <th>count</th>\n",
       "    </tr>\n",
       "    <tr>\n",
       "      <th>GarageQual</th>\n",
       "      <th></th>\n",
       "    </tr>\n",
       "  </thead>\n",
       "  <tbody>\n",
       "    <tr>\n",
       "      <th>Ex</th>\n",
       "      <td>3</td>\n",
       "    </tr>\n",
       "    <tr>\n",
       "      <th>Fa</th>\n",
       "      <td>48</td>\n",
       "    </tr>\n",
       "    <tr>\n",
       "      <th>Gd</th>\n",
       "      <td>14</td>\n",
       "    </tr>\n",
       "    <tr>\n",
       "      <th>NA</th>\n",
       "      <td>81</td>\n",
       "    </tr>\n",
       "    <tr>\n",
       "      <th>Po</th>\n",
       "      <td>3</td>\n",
       "    </tr>\n",
       "    <tr>\n",
       "      <th>TA</th>\n",
       "      <td>1311</td>\n",
       "    </tr>\n",
       "  </tbody>\n",
       "</table>\n",
       "</div>"
      ],
      "text/plain": [
       "              Id\n",
       "           count\n",
       "GarageQual      \n",
       "Ex             3\n",
       "Fa            48\n",
       "Gd            14\n",
       "NA            81\n",
       "Po             3\n",
       "TA          1311"
      ]
     },
     "execution_count": 91,
     "metadata": {},
     "output_type": "execute_result"
    }
   ],
   "source": [
    "# Поле 'GarageQual' (Качество гаража)\n",
    "df.groupby(['GarageQual']).agg({'Id': ['count']})"
   ]
  },
  {
   "cell_type": "code",
   "execution_count": 92,
   "id": "d00c87bc-71e5-4dc5-b5be-bd5a495491c8",
   "metadata": {},
   "outputs": [],
   "source": [
    "# Заполним недостающие значения строкой 'NA'\n",
    "df['GarageQual'] = df['GarageQual'].fillna('NA')"
   ]
  },
  {
   "cell_type": "code",
   "execution_count": 93,
   "id": "ded1842f-1d4d-4438-8aea-1325d8df385c",
   "metadata": {},
   "outputs": [
    {
     "data": {
      "text/html": [
       "<div>\n",
       "<style scoped>\n",
       "    .dataframe tbody tr th:only-of-type {\n",
       "        vertical-align: middle;\n",
       "    }\n",
       "\n",
       "    .dataframe tbody tr th {\n",
       "        vertical-align: top;\n",
       "    }\n",
       "\n",
       "    .dataframe thead tr th {\n",
       "        text-align: left;\n",
       "    }\n",
       "\n",
       "    .dataframe thead tr:last-of-type th {\n",
       "        text-align: right;\n",
       "    }\n",
       "</style>\n",
       "<table border=\"1\" class=\"dataframe\">\n",
       "  <thead>\n",
       "    <tr>\n",
       "      <th></th>\n",
       "      <th>Id</th>\n",
       "    </tr>\n",
       "    <tr>\n",
       "      <th></th>\n",
       "      <th>count</th>\n",
       "    </tr>\n",
       "    <tr>\n",
       "      <th>GarageCond</th>\n",
       "      <th></th>\n",
       "    </tr>\n",
       "  </thead>\n",
       "  <tbody>\n",
       "    <tr>\n",
       "      <th>Ex</th>\n",
       "      <td>2</td>\n",
       "    </tr>\n",
       "    <tr>\n",
       "      <th>Fa</th>\n",
       "      <td>35</td>\n",
       "    </tr>\n",
       "    <tr>\n",
       "      <th>Gd</th>\n",
       "      <td>9</td>\n",
       "    </tr>\n",
       "    <tr>\n",
       "      <th>NA</th>\n",
       "      <td>81</td>\n",
       "    </tr>\n",
       "    <tr>\n",
       "      <th>Po</th>\n",
       "      <td>7</td>\n",
       "    </tr>\n",
       "    <tr>\n",
       "      <th>TA</th>\n",
       "      <td>1326</td>\n",
       "    </tr>\n",
       "  </tbody>\n",
       "</table>\n",
       "</div>"
      ],
      "text/plain": [
       "              Id\n",
       "           count\n",
       "GarageCond      \n",
       "Ex             2\n",
       "Fa            35\n",
       "Gd             9\n",
       "NA            81\n",
       "Po             7\n",
       "TA          1326"
      ]
     },
     "execution_count": 93,
     "metadata": {},
     "output_type": "execute_result"
    }
   ],
   "source": [
    "# Поле 'GarageCond' (Состояние гаража)\n",
    "df.groupby(['GarageCond']).agg({'Id': ['count']})"
   ]
  },
  {
   "cell_type": "code",
   "execution_count": 94,
   "id": "537ec8b2-9834-44d9-8d42-9fcadb63d1e4",
   "metadata": {},
   "outputs": [],
   "source": [
    "# Заполним недостающие значения строкой 'NA'\n",
    "df['GarageCond'] = df['GarageCond'].fillna('NA')"
   ]
  },
  {
   "cell_type": "code",
   "execution_count": 95,
   "id": "acac85cc-0cdf-4c57-b72e-d598aacf9e79",
   "metadata": {},
   "outputs": [
    {
     "data": {
      "text/html": [
       "<div>\n",
       "<style scoped>\n",
       "    .dataframe tbody tr th:only-of-type {\n",
       "        vertical-align: middle;\n",
       "    }\n",
       "\n",
       "    .dataframe tbody tr th {\n",
       "        vertical-align: top;\n",
       "    }\n",
       "\n",
       "    .dataframe thead tr th {\n",
       "        text-align: left;\n",
       "    }\n",
       "\n",
       "    .dataframe thead tr:last-of-type th {\n",
       "        text-align: right;\n",
       "    }\n",
       "</style>\n",
       "<table border=\"1\" class=\"dataframe\">\n",
       "  <thead>\n",
       "    <tr>\n",
       "      <th></th>\n",
       "      <th>Id</th>\n",
       "    </tr>\n",
       "    <tr>\n",
       "      <th></th>\n",
       "      <th>count</th>\n",
       "    </tr>\n",
       "    <tr>\n",
       "      <th>PoolQC</th>\n",
       "      <th></th>\n",
       "    </tr>\n",
       "  </thead>\n",
       "  <tbody>\n",
       "    <tr>\n",
       "      <th>Ex</th>\n",
       "      <td>2</td>\n",
       "    </tr>\n",
       "    <tr>\n",
       "      <th>Fa</th>\n",
       "      <td>2</td>\n",
       "    </tr>\n",
       "    <tr>\n",
       "      <th>Gd</th>\n",
       "      <td>3</td>\n",
       "    </tr>\n",
       "    <tr>\n",
       "      <th>NA</th>\n",
       "      <td>1453</td>\n",
       "    </tr>\n",
       "  </tbody>\n",
       "</table>\n",
       "</div>"
      ],
      "text/plain": [
       "          Id\n",
       "       count\n",
       "PoolQC      \n",
       "Ex         2\n",
       "Fa         2\n",
       "Gd         3\n",
       "NA      1453"
      ]
     },
     "execution_count": 95,
     "metadata": {},
     "output_type": "execute_result"
    }
   ],
   "source": [
    "# Поле 'PoolQC' (Качество бассейна)\n",
    "df.groupby(['PoolQC']).agg({'Id': ['count']})"
   ]
  },
  {
   "cell_type": "code",
   "execution_count": 96,
   "id": "84dd3a68-a7bd-488c-8d0a-e1fa6f0da0db",
   "metadata": {},
   "outputs": [],
   "source": [
    "# Заполним недостающие значения строкой 'NA'\n",
    "df['PoolQC'] = df['PoolQC'].fillna('NA')"
   ]
  },
  {
   "cell_type": "code",
   "execution_count": 97,
   "id": "4dbf1b54-8893-4bd2-9490-59619c94a579",
   "metadata": {},
   "outputs": [
    {
     "data": {
      "text/html": [
       "<div>\n",
       "<style scoped>\n",
       "    .dataframe tbody tr th:only-of-type {\n",
       "        vertical-align: middle;\n",
       "    }\n",
       "\n",
       "    .dataframe tbody tr th {\n",
       "        vertical-align: top;\n",
       "    }\n",
       "\n",
       "    .dataframe thead tr th {\n",
       "        text-align: left;\n",
       "    }\n",
       "\n",
       "    .dataframe thead tr:last-of-type th {\n",
       "        text-align: right;\n",
       "    }\n",
       "</style>\n",
       "<table border=\"1\" class=\"dataframe\">\n",
       "  <thead>\n",
       "    <tr>\n",
       "      <th></th>\n",
       "      <th>Id</th>\n",
       "    </tr>\n",
       "    <tr>\n",
       "      <th></th>\n",
       "      <th>count</th>\n",
       "    </tr>\n",
       "    <tr>\n",
       "      <th>Fence</th>\n",
       "      <th></th>\n",
       "    </tr>\n",
       "  </thead>\n",
       "  <tbody>\n",
       "    <tr>\n",
       "      <th>GdPrv</th>\n",
       "      <td>59</td>\n",
       "    </tr>\n",
       "    <tr>\n",
       "      <th>GdWo</th>\n",
       "      <td>54</td>\n",
       "    </tr>\n",
       "    <tr>\n",
       "      <th>MnPrv</th>\n",
       "      <td>157</td>\n",
       "    </tr>\n",
       "    <tr>\n",
       "      <th>MnWw</th>\n",
       "      <td>11</td>\n",
       "    </tr>\n",
       "    <tr>\n",
       "      <th>NA</th>\n",
       "      <td>1179</td>\n",
       "    </tr>\n",
       "  </tbody>\n",
       "</table>\n",
       "</div>"
      ],
      "text/plain": [
       "         Id\n",
       "      count\n",
       "Fence      \n",
       "GdPrv    59\n",
       "GdWo     54\n",
       "MnPrv   157\n",
       "MnWw     11\n",
       "NA     1179"
      ]
     },
     "execution_count": 97,
     "metadata": {},
     "output_type": "execute_result"
    }
   ],
   "source": [
    "# Поле 'Fence' (Качество забора)\n",
    "df.groupby(['Fence']).agg({'Id': ['count']})"
   ]
  },
  {
   "cell_type": "code",
   "execution_count": 98,
   "id": "8655df32-8155-4ab2-97c1-40f6fb030229",
   "metadata": {},
   "outputs": [],
   "source": [
    "# Заполним недостающие значения строкой 'NA'\n",
    "df['Fence'] = df['Fence'].fillna('NA')"
   ]
  },
  {
   "cell_type": "code",
   "execution_count": 99,
   "id": "e7bcd768-e8ed-4024-a041-716b8f639cba",
   "metadata": {},
   "outputs": [
    {
     "data": {
      "text/html": [
       "<div>\n",
       "<style scoped>\n",
       "    .dataframe tbody tr th:only-of-type {\n",
       "        vertical-align: middle;\n",
       "    }\n",
       "\n",
       "    .dataframe tbody tr th {\n",
       "        vertical-align: top;\n",
       "    }\n",
       "\n",
       "    .dataframe thead tr th {\n",
       "        text-align: left;\n",
       "    }\n",
       "\n",
       "    .dataframe thead tr:last-of-type th {\n",
       "        text-align: right;\n",
       "    }\n",
       "</style>\n",
       "<table border=\"1\" class=\"dataframe\">\n",
       "  <thead>\n",
       "    <tr>\n",
       "      <th></th>\n",
       "      <th>Id</th>\n",
       "    </tr>\n",
       "    <tr>\n",
       "      <th></th>\n",
       "      <th>count</th>\n",
       "    </tr>\n",
       "    <tr>\n",
       "      <th>MiscFeature</th>\n",
       "      <th></th>\n",
       "    </tr>\n",
       "  </thead>\n",
       "  <tbody>\n",
       "    <tr>\n",
       "      <th>Gar2</th>\n",
       "      <td>2</td>\n",
       "    </tr>\n",
       "    <tr>\n",
       "      <th>NA</th>\n",
       "      <td>1406</td>\n",
       "    </tr>\n",
       "    <tr>\n",
       "      <th>Othr</th>\n",
       "      <td>2</td>\n",
       "    </tr>\n",
       "    <tr>\n",
       "      <th>Shed</th>\n",
       "      <td>49</td>\n",
       "    </tr>\n",
       "    <tr>\n",
       "      <th>TenC</th>\n",
       "      <td>1</td>\n",
       "    </tr>\n",
       "  </tbody>\n",
       "</table>\n",
       "</div>"
      ],
      "text/plain": [
       "               Id\n",
       "            count\n",
       "MiscFeature      \n",
       "Gar2            2\n",
       "NA           1406\n",
       "Othr            2\n",
       "Shed           49\n",
       "TenC            1"
      ]
     },
     "execution_count": 99,
     "metadata": {},
     "output_type": "execute_result"
    }
   ],
   "source": [
    "# Поле 'MiscFeature' (Разные функции, не вошедшие в другие категории)\n",
    "df.groupby(['MiscFeature']).agg({'Id': ['count']})"
   ]
  },
  {
   "cell_type": "code",
   "execution_count": 100,
   "id": "4d283ea6-de94-4c2c-ab5f-c647bba5c003",
   "metadata": {},
   "outputs": [],
   "source": [
    "# Заполним недостающие значения строкой 'NA'\n",
    "df['MiscFeature'] = df['MiscFeature'].fillna('NA')"
   ]
  },
  {
   "cell_type": "code",
   "execution_count": 101,
   "id": "34882488-e172-4562-9985-fdae1d654bea",
   "metadata": {},
   "outputs": [],
   "source": [
    "# Проверим пустые значения датафрейма"
   ]
  },
  {
   "cell_type": "code",
   "execution_count": 102,
   "id": "8b6ba5fb-e791-4283-8e67-ec5ff17d69a9",
   "metadata": {},
   "outputs": [
    {
     "name": "stdout",
     "output_type": "stream",
     "text": [
      "Id               0\n",
      "MSSubClass       0\n",
      "MSZoning         0\n",
      "LotFrontage      0\n",
      "LotArea          0\n",
      "Street           0\n",
      "Alley            0\n",
      "LotShape         0\n",
      "LandContour      0\n",
      "Utilities        0\n",
      "LotConfig        0\n",
      "LandSlope        0\n",
      "Neighborhood     0\n",
      "Condition1       0\n",
      "Condition2       0\n",
      "BldgType         0\n",
      "HouseStyle       0\n",
      "OverallQual      0\n",
      "OverallCond      0\n",
      "YearBuilt        0\n",
      "YearRemodAdd     0\n",
      "RoofStyle        0\n",
      "RoofMatl         0\n",
      "Exterior1st      0\n",
      "Exterior2nd      0\n",
      "MasVnrType       0\n",
      "MasVnrArea       0\n",
      "ExterQual        0\n",
      "ExterCond        0\n",
      "Foundation       0\n",
      "BsmtQual         0\n",
      "BsmtCond         0\n",
      "BsmtExposure     0\n",
      "BsmtFinType1     0\n",
      "BsmtFinSF1       0\n",
      "BsmtFinType2     0\n",
      "BsmtFinSF2       0\n",
      "BsmtUnfSF        0\n",
      "TotalBsmtSF      0\n",
      "Heating          0\n",
      "HeatingQC        0\n",
      "CentralAir       0\n",
      "Electrical       0\n",
      "1stFlrSF         0\n",
      "2ndFlrSF         0\n",
      "LowQualFinSF     0\n",
      "GrLivArea        0\n",
      "BsmtFullBath     0\n",
      "BsmtHalfBath     0\n",
      "FullBath         0\n",
      "HalfBath         0\n",
      "BedroomAbvGr     0\n",
      "KitchenAbvGr     0\n",
      "KitchenQual      0\n",
      "TotRmsAbvGrd     0\n",
      "Functional       0\n",
      "Fireplaces       0\n",
      "FireplaceQu      0\n",
      "GarageType       0\n",
      "GarageYrBlt      0\n",
      "GarageFinish     0\n",
      "GarageCars       0\n",
      "GarageArea       0\n",
      "GarageQual       0\n",
      "GarageCond       0\n",
      "PavedDrive       0\n",
      "WoodDeckSF       0\n",
      "OpenPorchSF      0\n",
      "EnclosedPorch    0\n",
      "3SsnPorch        0\n",
      "ScreenPorch      0\n",
      "PoolArea         0\n",
      "PoolQC           0\n",
      "Fence            0\n",
      "MiscFeature      0\n",
      "MiscVal          0\n",
      "MoSold           0\n",
      "YrSold           0\n",
      "SaleType         0\n",
      "SaleCondition    0\n",
      "SalePrice        0\n",
      "dtype: int64\n"
     ]
    }
   ],
   "source": [
    "# Настроим pd, чтобы выводились все строки \n",
    "pd.set_option('display.max_rows', None)\n",
    "# Проверка того, в каких столбцах отсутствуют значения\n",
    "print(df.isnull().sum(axis=0))\n",
    "# Сбросим настройки вывода строк\n",
    "pd.reset_option('display.max_rows')"
   ]
  },
  {
   "cell_type": "code",
   "execution_count": 103,
   "id": "4a5ab6d5-dfd2-4dd6-ad17-10ad07bb3992",
   "metadata": {},
   "outputs": [],
   "source": [
    "# 4. Проведите разведочный анализ данных (EDA), ответив на следующие вопросы:\n",
    "\n",
    "# a. Каково распределение целевой переменной 'SalePrice'? Есть ли какие-либо выбросы?\n",
    "# b. Исследуйте взаимосвязи между целевой переменной и другими характеристиками. Есть ли сильные корреляции?\n",
    "# c. Исследуйте распределение и взаимосвязи других важных характеристик, таких как 'OverallQual', 'GrLivArea', 'GarageCars' и т.д.\n",
    "# d. Визуализируйте данные, используя соответствующие графики (например, гистограммы, диаграммы рассеяния, квадратные диаграммы), чтобы получить представление о датасете."
   ]
  },
  {
   "cell_type": "code",
   "execution_count": 104,
   "id": "c750d767-7805-43b3-8316-3af8069e8a82",
   "metadata": {},
   "outputs": [],
   "source": [
    "# Поле 'SalePrice' (цена продажи недвижимости в долларах)"
   ]
  },
  {
   "cell_type": "code",
   "execution_count": 105,
   "id": "d7e6183e-1e4f-4d6e-815d-af11eeea1c85",
   "metadata": {},
   "outputs": [],
   "source": [
    "# Проверим какое у нас распределение\n",
    "from distfit import distfit"
   ]
  },
  {
   "cell_type": "code",
   "execution_count": 106,
   "id": "8eab7b4b-c94d-44ca-a46e-0cb8b00b50ba",
   "metadata": {},
   "outputs": [],
   "source": [
    "# Сохраним первоначальные данные для визуализации, потом данные будут обрабатываться, чтобы избавится от выбросов\n",
    "df_original = pd.DataFrame(df)"
   ]
  },
  {
   "cell_type": "code",
   "execution_count": 107,
   "id": "2678f979-860d-4827-8761-60b05db26742",
   "metadata": {},
   "outputs": [
    {
     "name": "stderr",
     "output_type": "stream",
     "text": [
      "[distfit] >INFO> fit\n",
      "[distfit] >INFO> transform\n",
      "[distfit] >INFO> [norm      ] [0.00 sec] [RSS: 5.45105e-11] [loc=180921.196 scale=79415.292]\n",
      "[distfit] >INFO> [expon     ] [0.00 sec] [RSS: 1.81978e-10] [loc=34900.000 scale=146021.196]\n",
      "[distfit] >INFO> [pareto    ] [0.02 sec] [RSS: 3.23125e-10] [loc=34900.000 scale=0.000]\n",
      "[distfit] >INFO> [dweibull  ] [0.67 sec] [RSS: 2.87788e-11] [loc=166383.808 scale=57223.063]\n",
      "[distfit] >INFO> [t         ] [1.13 sec] [RSS: 5.45048e-11] [loc=180917.446 scale=79413.433]\n",
      "[distfit] >INFO> [genextreme] [0.88 sec] [RSS: 3.20293e-10] [loc=34900.132 scale=1.305]\n",
      "[distfit] >INFO> [gamma     ] [0.45 sec] [RSS: 2.82294e-10] [loc=-75061475.684 scale=10993.592]\n",
      "[distfit] >INFO> [lognorm   ] [0.68 sec] [RSS: 1.25538e-11] [loc=-115.915 scale=166844.690]\n",
      "[distfit] >INFO> [beta      ] [0.54 sec] [RSS: 2.01587e-11] [loc=24176.867 scale=2122600.504]\n",
      "[distfit] >INFO> [uniform   ] [0.00 sec] [RSS: 2.38664e-10] [loc=34900.000 scale=720100.000]\n",
      "[distfit] >INFO> [loggamma  ] [0.44 sec] [RSS: 5.62019e-11] [loc=-24064477.318 scale=3276770.669]\n",
      "[distfit] >INFO> [norm      ] [4.88 sec] [RSS: 5.45105e-11] [loc=180921.196 scale=79415.292]\n",
      "[distfit] >INFO> [expon     ] [4.88 sec] [RSS: 1.81978e-10] [loc=34900.000 scale=146021.196]\n",
      "[distfit] >INFO> [pareto    ] [4.88 sec] [RSS: 3.23125e-10] [loc=34900.000 scale=0.000]\n",
      "[distfit] >INFO> [dweibull  ] [4.86 sec] [RSS: 2.87788e-11] [loc=166383.808 scale=57223.063]\n",
      "[distfit] >INFO> [t         ] [4.18 sec] [RSS: 5.45048e-11] [loc=180917.446 scale=79413.433]\n",
      "[distfit] >INFO> [genextreme] [3.05 sec] [RSS: 3.20293e-10] [loc=34900.132 scale=1.305]\n",
      "[distfit] >INFO> [gamma     ] [2.18 sec] [RSS: 2.82294e-10] [loc=-75061475.684 scale=10993.592]\n",
      "[distfit] >INFO> [lognorm   ] [1.74 sec] [RSS: 1.25538e-11] [loc=-115.915 scale=166844.690]\n",
      "[distfit] >INFO> [beta      ] [1.07 sec] [RSS: 2.01587e-11] [loc=24176.867 scale=2122600.504]\n",
      "[distfit] >INFO> [uniform   ] [0.56 sec] [RSS: 2.38664e-10] [loc=34900.000 scale=720100.000]\n",
      "[distfit] >INFO> [loggamma  ] [0.63 sec] [RSS: 5.62019e-11] [loc=-24064477.318 scale=3276770.669]\n",
      "[distfit] >INFO> Compute confidence intervals [parametric]\n"
     ]
    }
   ],
   "source": [
    "# Оценим параметры поля 'SalePrice'\n",
    "dfit = distfit(distr='popular')\n",
    "result = dfit.fit_transform(df['SalePrice'])"
   ]
  },
  {
   "cell_type": "code",
   "execution_count": 108,
   "id": "1929220b-4929-429f-8057-329477c0d9f2",
   "metadata": {},
   "outputs": [
    {
     "data": {
      "text/plain": [
       "{'name': 'lognorm',\n",
       " 'score': 1.2553769692744359e-11,\n",
       " 'loc': -115.91494740110045,\n",
       " 'scale': 166844.69015045662,\n",
       " 'arg': (0.39900132305064423,),\n",
       " 'params': (0.39900132305064423, -115.91494740110045, 166844.69015045662),\n",
       " 'model': <scipy.stats._distn_infrastructure.rv_continuous_frozen at 0x1cdd138bbe0>,\n",
       " 'bootstrap_score': 0,\n",
       " 'bootstrap_pass': None,\n",
       " 'color': '#e41a1c',\n",
       " 'CII_min_alpha': 86437.74841078093,\n",
       " 'CII_max_alpha': 321501.3286371293}"
      ]
     },
     "execution_count": 108,
     "metadata": {},
     "output_type": "execute_result"
    }
   ],
   "source": [
    "result['model']"
   ]
  },
  {
   "cell_type": "code",
   "execution_count": 109,
   "id": "0e1cd770-14a0-4116-9ec9-23f82dc31bd9",
   "metadata": {},
   "outputs": [],
   "source": [
    "# Распределение поля 'SalePrice'"
   ]
  },
  {
   "cell_type": "code",
   "execution_count": 110,
   "id": "e9e89433-bae6-4093-a1e8-7247e8713391",
   "metadata": {},
   "outputs": [
    {
     "data": {
      "text/plain": [
       "Text(0, 0.5, 'Количество домов')"
      ]
     },
     "execution_count": 110,
     "metadata": {},
     "output_type": "execute_result"
    },
    {
     "data": {
      "image/png": "[encoded data removed]",
      "text/plain": [
       "<Figure size 640x480 with 1 Axes>"
      ]
     },
     "metadata": {},
     "output_type": "display_data"
    }
   ],
   "source": [
    "import matplotlib.pyplot as plt\n",
    "\n",
    "plt.hist(df['SalePrice'], bins=100)\n",
    "plt.title('Стоимость домов')\n",
    "plt.xlabel('Цена')\n",
    "plt.ylabel('Количество домов')"
   ]
  },
  {
   "cell_type": "code",
   "execution_count": 111,
   "id": "c81c77a5-ffc9-4e55-a77e-4dae79a33aca",
   "metadata": {},
   "outputs": [],
   "source": [
    "# Проверим выбросы в поле 'SalePrice'\n",
    "\n",
    "# Вычисление Z-score для столбца \"SalePrice\"\n",
    "from scipy import stats\n",
    "\n",
    "z = np.abs(stats.zscore(df['SalePrice']))\n",
    "\n",
    "# Установка порогового значения Z-score\n",
    "threshold = 3\n",
    "\n",
    "# Выявление выбросов на основе Z-score\n",
    "outliers = df['SalePrice'][z > threshold]"
   ]
  },
  {
   "cell_type": "code",
   "execution_count": 112,
   "id": "00250aa7-1a53-4981-9d66-1df9192113c9",
   "metadata": {},
   "outputs": [
    {
     "data": {
      "text/plain": [
       "180921.19589041095"
      ]
     },
     "execution_count": 112,
     "metadata": {},
     "output_type": "execute_result"
    }
   ],
   "source": [
    "# Среднее значение в столбце\n",
    "df['SalePrice'].mean()"
   ]
  },
  {
   "cell_type": "code",
   "execution_count": 114,
   "id": "dc62868a-5523-4239-9d01-73f2263129ae",
   "metadata": {},
   "outputs": [
    {
     "data": {
      "text/plain": [
       "58      438780\n",
       "178     501837\n",
       "185     475000\n",
       "349     437154\n",
       "389     426000\n",
       "440     555000\n",
       "473     440000\n",
       "496     430000\n",
       "527     446261\n",
       "591     451950\n",
       "664     423000\n",
       "691     755000\n",
       "769     538000\n",
       "798     485000\n",
       "803     582933\n",
       "898     611657\n",
       "1046    556581\n",
       "1142    424870\n",
       "1169    625000\n",
       "1182    745000\n",
       "1243    465000\n",
       "1373    466500\n",
       "Name: SalePrice, dtype: int64"
      ]
     },
     "execution_count": 114,
     "metadata": {},
     "output_type": "execute_result"
    }
   ],
   "source": [
    "# Посмотрим выбросы\n",
    "outliers"
   ]
  },
  {
   "cell_type": "code",
   "execution_count": 115,
   "id": "639f9f65-6b73-49eb-af27-e258bffb289f",
   "metadata": {},
   "outputs": [],
   "source": [
    "# Произведем логарифмическое преобразование столбца \"SalePrice\" \n",
    "df['SalePrice'] = np.log1p(df['SalePrice'])"
   ]
  },
  {
   "cell_type": "code",
   "execution_count": 116,
   "id": "05a1d853-1162-4b51-95cf-8e0e1b4da311",
   "metadata": {},
   "outputs": [
    {
     "data": {
      "text/plain": [
       "12.024057394918406"
      ]
     },
     "execution_count": 116,
     "metadata": {},
     "output_type": "execute_result"
    }
   ],
   "source": [
    "df['SalePrice'].mean()"
   ]
  },
  {
   "cell_type": "code",
   "execution_count": 117,
   "id": "3d1cb152-3b82-4dce-bbe7-bc95eb69f141",
   "metadata": {},
   "outputs": [],
   "source": [
    "# Получили значительное снижение среднего значения"
   ]
  },
  {
   "cell_type": "code",
   "execution_count": 118,
   "id": "c35b3bee-69f5-4288-96a9-1197f68b2cdf",
   "metadata": {},
   "outputs": [],
   "source": [
    "# Поле 'OverallQual' (материал и отделка дома)\n",
    "#\n",
    "# Посмотрим распределение поля 'OverallQual'"
   ]
  },
  {
   "cell_type": "code",
   "execution_count": 119,
   "id": "6a0918e3-cab2-449e-9750-eb59b9b3e15a",
   "metadata": {},
   "outputs": [
    {
     "data": {
      "text/plain": [
       "Text(0, 0.5, 'Количество домов')"
      ]
     },
     "execution_count": 119,
     "metadata": {},
     "output_type": "execute_result"
    },
    {
     "data": {
      "image/png": "[encoded data removed]",
      "text/plain": [
       "<Figure size 640x480 with 1 Axes>"
      ]
     },
     "metadata": {},
     "output_type": "display_data"
    }
   ],
   "source": [
    "import matplotlib.pyplot as plt\n",
    "\n",
    "plt.hist(df['OverallQual'], bins=100)\n",
    "plt.title('Отделка домов')\n",
    "plt.xlabel('Качество отделки')\n",
    "plt.ylabel('Количество домов')"
   ]
  },
  {
   "cell_type": "code",
   "execution_count": 120,
   "id": "997c5339-80a4-44b4-93ba-28e7db85bb68",
   "metadata": {},
   "outputs": [],
   "source": [
    "# Проверим выбросы в поле 'OverallQual'"
   ]
  },
  {
   "cell_type": "code",
   "execution_count": 121,
   "id": "a1bae32a-0d81-40e6-afd8-ee32af5ca08e",
   "metadata": {},
   "outputs": [],
   "source": [
    "# Вычисление Z-score для столбца \"OverallQual\"\n",
    "z = np.abs(stats.zscore(df['OverallQual']))\n",
    "\n",
    "# Установка порогового значения Z-score\n",
    "threshold = 3\n",
    "\n",
    "# Выявление выбросов на основе Z-score\n",
    "outliers = df['OverallQual'][z > threshold]"
   ]
  },
  {
   "cell_type": "code",
   "execution_count": 122,
   "id": "405bc2cc-7a2d-457c-9edf-b68d8e8a2e52",
   "metadata": {},
   "outputs": [
    {
     "data": {
      "text/plain": [
       "6.0993150684931505"
      ]
     },
     "execution_count": 122,
     "metadata": {},
     "output_type": "execute_result"
    }
   ],
   "source": [
    "# Среднее значение в столбце\n",
    "df['OverallQual'].mean()"
   ]
  },
  {
   "cell_type": "code",
   "execution_count": 123,
   "id": "8a9e9524-bbdf-47be-8802-3a2d782e38d3",
   "metadata": {},
   "outputs": [],
   "source": [
    "# Винсоризация столбца \"OverallQual\"\n",
    "from scipy.stats.mstats import winsorize\n",
    "# С права отбросим 1% слева 1%\n",
    "df['OverallQual'] = winsorize(df['OverallQual'], limits=[0.01, 0.01])"
   ]
  },
  {
   "cell_type": "code",
   "execution_count": null,
   "id": "4243bac3-9e95-4b6f-b492-c11e96b4ff39",
   "metadata": {},
   "outputs": [],
   "source": [
    "# Посмотрим выбросы"
   ]
  },
  {
   "cell_type": "code",
   "execution_count": 125,
   "id": "af156e48",
   "metadata": {},
   "outputs": [
    {
     "data": {
      "text/plain": [
       "375    1\n",
       "533    1\n",
       "Name: OverallQual, dtype: int64"
      ]
     },
     "execution_count": 125,
     "metadata": {},
     "output_type": "execute_result"
    }
   ],
   "source": [
    "outliers"
   ]
  },
  {
   "cell_type": "code",
   "execution_count": 126,
   "id": "84ea4340-e80e-488b-a34f-6ec628b8a0cd",
   "metadata": {},
   "outputs": [],
   "source": [
    "# Произведем логарифмическое преобразование столбца \"OverallQual\" \n",
    "df['OverallQual'] = np.log1p(df['OverallQual'])"
   ]
  },
  {
   "cell_type": "code",
   "execution_count": 127,
   "id": "df5ef7c2-9c39-4ae5-887a-e734eed6fdb6",
   "metadata": {},
   "outputs": [
    {
     "data": {
      "text/plain": [
       "1.9418492579438662"
      ]
     },
     "execution_count": 127,
     "metadata": {},
     "output_type": "execute_result"
    }
   ],
   "source": [
    "# Среднее значение в столбце\n",
    "df['OverallQual'].mean()"
   ]
  },
  {
   "cell_type": "code",
   "execution_count": 128,
   "id": "8258abdd-73de-405d-ac53-b09f974becb2",
   "metadata": {},
   "outputs": [],
   "source": [
    "# Среднее значение значительно уменьшилось, выбросов не осталось"
   ]
  },
  {
   "cell_type": "code",
   "execution_count": 129,
   "id": "3b9540fb-6deb-4849-ad8c-702fc23f1cb4",
   "metadata": {},
   "outputs": [],
   "source": [
    "# Поле 'GrLivArea' (жилая площадь над уровнем земли (земля), квадратные футы)\n",
    "#\n",
    "# Распредиление поля 'GrLivArea'"
   ]
  },
  {
   "cell_type": "code",
   "execution_count": 130,
   "id": "e38d6309-b6ab-48da-9a8e-46e1c271e8d1",
   "metadata": {},
   "outputs": [
    {
     "data": {
      "text/plain": [
       "Text(0, 0.5, 'Количество домов')"
      ]
     },
     "execution_count": 130,
     "metadata": {},
     "output_type": "execute_result"
    },
    {
     "data": {
      "image/png": "[encoded data removed]",
      "text/plain": [
       "<Figure size 640x480 with 1 Axes>"
      ]
     },
     "metadata": {},
     "output_type": "display_data"
    }
   ],
   "source": [
    "import matplotlib.pyplot as plt\n",
    "\n",
    "plt.hist(df['GrLivArea'], bins=100)\n",
    "plt.title('Жилая площадь над уровнем земли')\n",
    "plt.xlabel('Квадратные футы')\n",
    "plt.ylabel('Количество домов')"
   ]
  },
  {
   "cell_type": "code",
   "execution_count": 131,
   "id": "ae7598c7-28e3-43a6-812f-5ae04e0e6168",
   "metadata": {},
   "outputs": [],
   "source": [
    "# Посмотрим выбросы в поле 'GrLivArea'"
   ]
  },
  {
   "cell_type": "code",
   "execution_count": 132,
   "id": "3f7f2f4b-9974-4bb8-b0f0-fc3998eef41c",
   "metadata": {},
   "outputs": [],
   "source": [
    "# Вычисление Z-score для столбца \"GrLivArea\"\n",
    "z = np.abs(stats.zscore(df['GrLivArea']))\n",
    "\n",
    "# Установка порогового значения Z-score\n",
    "threshold = 3\n",
    "\n",
    "# Выявление выбросов на основе Z-score\n",
    "outliers = df['GrLivArea'][z > threshold]"
   ]
  },
  {
   "cell_type": "code",
   "execution_count": 133,
   "id": "b20c4423",
   "metadata": {},
   "outputs": [
    {
     "data": {
      "text/plain": [
       "1515.463698630137"
      ]
     },
     "execution_count": 133,
     "metadata": {},
     "output_type": "execute_result"
    }
   ],
   "source": [
    "# Среднее значение в столбце\n",
    "df['GrLivArea'].mean()"
   ]
  },
  {
   "cell_type": "code",
   "execution_count": null,
   "id": "ee934e12-95cc-465b-8402-4fa92509b4da",
   "metadata": {},
   "outputs": [],
   "source": [
    "# Посмотрим выбросы"
   ]
  },
  {
   "cell_type": "code",
   "execution_count": 135,
   "id": "8b616aa9",
   "metadata": {},
   "outputs": [
    {
     "data": {
      "text/plain": [
       "118     3222\n",
       "185     3608\n",
       "197     3112\n",
       "304     3493\n",
       "496     3228\n",
       "523     4676\n",
       "608     3194\n",
       "635     3395\n",
       "691     4316\n",
       "769     3279\n",
       "798     3140\n",
       "1169    3627\n",
       "1182    4476\n",
       "1268    3447\n",
       "1298    5642\n",
       "1353    3238\n",
       "Name: GrLivArea, dtype: int64"
      ]
     },
     "execution_count": 135,
     "metadata": {},
     "output_type": "execute_result"
    }
   ],
   "source": [
    "outliers"
   ]
  },
  {
   "cell_type": "code",
   "execution_count": 136,
   "id": "99164c7d-1612-429f-af83-a9e3f7f02034",
   "metadata": {},
   "outputs": [],
   "source": [
    "# Произведем логарифмическое преобразование столбца \"GrLivArea\" \n",
    "df['GrLivArea'] = np.log1p(df['GrLivArea'])"
   ]
  },
  {
   "cell_type": "code",
   "execution_count": 137,
   "id": "74a621a9-766d-474a-bedd-bc1a6579ee0b",
   "metadata": {},
   "outputs": [
    {
     "data": {
      "text/plain": [
       "7.268511760585581"
      ]
     },
     "execution_count": 137,
     "metadata": {},
     "output_type": "execute_result"
    }
   ],
   "source": [
    "# Среднее значение в столбце\n",
    "df['GrLivArea'].mean()"
   ]
  },
  {
   "cell_type": "code",
   "execution_count": 138,
   "id": "d542e8dd-aef7-4764-b816-20074c8a5e7c",
   "metadata": {},
   "outputs": [],
   "source": [
    "# Среднее значение значительно уменьшилось"
   ]
  },
  {
   "cell_type": "code",
   "execution_count": 139,
   "id": "65a7aced-8437-4257-9f5b-3b45e467df1a",
   "metadata": {},
   "outputs": [],
   "source": [
    "# Поле 'GarageCars' (размер гаража по вместимости автомобиля)\n",
    "#\n",
    "# Распредиление поля 'GarageCars'"
   ]
  },
  {
   "cell_type": "code",
   "execution_count": 140,
   "id": "8f59e7b3-8007-4f90-82f7-4fbec891ef5d",
   "metadata": {},
   "outputs": [
    {
     "data": {
      "text/plain": [
       "Text(0, 0.5, 'Количество домов')"
      ]
     },
     "execution_count": 140,
     "metadata": {},
     "output_type": "execute_result"
    },
    {
     "data": {
      "image/png": "[encoded data removed]",
      "text/plain": [
       "<Figure size 640x480 with 1 Axes>"
      ]
     },
     "metadata": {},
     "output_type": "display_data"
    }
   ],
   "source": [
    "import matplotlib.pyplot as plt\n",
    "\n",
    "plt.hist(df['GarageCars'], bins=100)\n",
    "plt.title('Гараж')\n",
    "plt.xlabel('Количество машин')\n",
    "plt.ylabel('Количество домов')"
   ]
  },
  {
   "cell_type": "code",
   "execution_count": 141,
   "id": "80adde68-d998-49a1-9cdb-96d093ec2978",
   "metadata": {},
   "outputs": [],
   "source": [
    "# Посмотрим выбросы в поле 'GarageCars'"
   ]
  },
  {
   "cell_type": "code",
   "execution_count": 142,
   "id": "e6edbae1-699d-41e1-857b-b5fb33e2819e",
   "metadata": {},
   "outputs": [],
   "source": [
    "# Вычисление Z-score для столбца \"GarageCars\"\n",
    "z = np.abs(stats.zscore(df['GarageCars']))\n",
    "\n",
    "# Установка порогового значения Z-score\n",
    "threshold = 3\n",
    "\n",
    "# Выявление выбросов на основе Z-score\n",
    "outliers = df['GarageCars'][z > threshold]"
   ]
  },
  {
   "cell_type": "code",
   "execution_count": 143,
   "id": "cc16970a-5243-4a10-a6a9-89a1a04e404e",
   "metadata": {},
   "outputs": [
    {
     "data": {
      "text/plain": [
       "1.7671232876712328"
      ]
     },
     "execution_count": 143,
     "metadata": {},
     "output_type": "execute_result"
    }
   ],
   "source": [
    "# Среднее значение в столбце\n",
    "df['GarageCars'].mean()"
   ]
  },
  {
   "cell_type": "code",
   "execution_count": 144,
   "id": "3cb73522-96d8-4b3a-be8b-6bafc62b1256",
   "metadata": {},
   "outputs": [
    {
     "data": {
      "text/plain": [
       "Series([], Name: GarageCars, dtype: int64)"
      ]
     },
     "execution_count": 144,
     "metadata": {},
     "output_type": "execute_result"
    }
   ],
   "source": [
    "# Посмотрим выбросы\n",
    "outliers"
   ]
  },
  {
   "cell_type": "markdown",
   "id": "d0c91182",
   "metadata": {},
   "source": [
    "Все хорошо, выбросов нет"
   ]
  },
  {
   "cell_type": "code",
   "execution_count": 145,
   "id": "fc7b7785-6935-4511-a138-ab25c8c4dfa9",
   "metadata": {},
   "outputs": [],
   "source": [
    "# Визуализируем данные"
   ]
  },
  {
   "cell_type": "code",
   "execution_count": 146,
   "id": "7da275e3-fb1b-40ae-9b97-33b06cc10c00",
   "metadata": {},
   "outputs": [],
   "source": [
    "import seaborn as sns"
   ]
  },
  {
   "cell_type": "code",
   "execution_count": 147,
   "id": "fa8523d7-42cc-4a84-9474-0fa41fca19ea",
   "metadata": {},
   "outputs": [],
   "source": [
    "# Стоимость жилья в зависимости от квадратных метров"
   ]
  },
  {
   "cell_type": "code",
   "execution_count": 148,
   "id": "95f5b4bf-3693-4bfc-b163-0b9cb3b5531d",
   "metadata": {},
   "outputs": [
    {
     "data": {
      "image/png": "[encoded data removed]",
      "text/plain": [
       "<Figure size 600x600 with 3 Axes>"
      ]
     },
     "metadata": {},
     "output_type": "display_data"
    }
   ],
   "source": [
    "sns.jointplot(x=df_original['GrLivArea'], y=df_original['SalePrice'], kind='reg');"
   ]
  },
  {
   "cell_type": "code",
   "execution_count": 149,
   "id": "a7c97a47-38fe-45d6-ab86-ac0f3825cbde",
   "metadata": {},
   "outputs": [],
   "source": [
    "# Вывод: график показывает зависимость стоимости жилья от величины жилой площади, т.е стоимость дома увеличивается с увеличением жилых метров."
   ]
  },
  {
   "cell_type": "code",
   "execution_count": 150,
   "id": "fab8e6dc-fd43-4fa1-97dd-d55d71a01dbd",
   "metadata": {},
   "outputs": [
    {
     "data": {
      "text/html": [
       "<div>\n",
       "<style scoped>\n",
       "    .dataframe tbody tr th:only-of-type {\n",
       "        vertical-align: middle;\n",
       "    }\n",
       "\n",
       "    .dataframe tbody tr th {\n",
       "        vertical-align: top;\n",
       "    }\n",
       "\n",
       "    .dataframe thead th {\n",
       "        text-align: right;\n",
       "    }\n",
       "</style>\n",
       "<table border=\"1\" class=\"dataframe\">\n",
       "  <thead>\n",
       "    <tr style=\"text-align: right;\">\n",
       "      <th></th>\n",
       "      <th>SalePrice</th>\n",
       "      <th>OverallQual</th>\n",
       "      <th>GrLivArea</th>\n",
       "      <th>GarageCars</th>\n",
       "    </tr>\n",
       "  </thead>\n",
       "  <tbody>\n",
       "    <tr>\n",
       "      <th>SalePrice</th>\n",
       "      <td>1.0</td>\n",
       "      <td>0.8</td>\n",
       "      <td>0.7</td>\n",
       "      <td>0.7</td>\n",
       "    </tr>\n",
       "    <tr>\n",
       "      <th>OverallQual</th>\n",
       "      <td>0.8</td>\n",
       "      <td>1.0</td>\n",
       "      <td>0.6</td>\n",
       "      <td>0.6</td>\n",
       "    </tr>\n",
       "    <tr>\n",
       "      <th>GrLivArea</th>\n",
       "      <td>0.7</td>\n",
       "      <td>0.6</td>\n",
       "      <td>1.0</td>\n",
       "      <td>0.5</td>\n",
       "    </tr>\n",
       "    <tr>\n",
       "      <th>GarageCars</th>\n",
       "      <td>0.7</td>\n",
       "      <td>0.6</td>\n",
       "      <td>0.5</td>\n",
       "      <td>1.0</td>\n",
       "    </tr>\n",
       "  </tbody>\n",
       "</table>\n",
       "</div>"
      ],
      "text/plain": [
       "             SalePrice  OverallQual  GrLivArea  GarageCars\n",
       "SalePrice          1.0          0.8        0.7         0.7\n",
       "OverallQual        0.8          1.0        0.6         0.6\n",
       "GrLivArea          0.7          0.6        1.0         0.5\n",
       "GarageCars         0.7          0.6        0.5         1.0"
      ]
     },
     "execution_count": 150,
     "metadata": {},
     "output_type": "execute_result"
    }
   ],
   "source": [
    "corr_matrix = df_original[['SalePrice', 'OverallQual', 'GrLivArea', 'GarageCars']].corr()\n",
    "corr_matrix = np.round(corr_matrix, 1)\n",
    "corr_matrix[np.abs(corr_matrix)<0.3] = 0\n",
    "corr_matrix"
   ]
  },
  {
   "cell_type": "code",
   "execution_count": 151,
   "id": "8d33b515-fd80-44bf-a8a4-a21e03c8efeb",
   "metadata": {},
   "outputs": [
    {
     "data": {
      "image/png": "[encoded data removed]",
      "text/plain": [
       "<Figure size 1000x800 with 2 Axes>"
      ]
     },
     "metadata": {},
     "output_type": "display_data"
    }
   ],
   "source": [
    "# График корреляции\n",
    "plt.figure(figsize=(10,8))\n",
    "sns.heatmap(corr_matrix, annot=True, linewidths=0.5, cmap='coolwarm')\n",
    "plt.title('График корреляции');"
   ]
  },
  {
   "cell_type": "code",
   "execution_count": 152,
   "id": "605f3a3a-d41f-4f17-81a5-d2b0a8d49bec",
   "metadata": {},
   "outputs": [],
   "source": [
    "# Вывод: график показывает величину корреляции между значениями. Например корреляция между SalePrice и OverallQual составляет 0.8 – \n",
    "# это высокая корреляция и означает, что с повышением цены дома увеличивается и качество отделки. \n",
    "# Корреляция бывает: 0.1-0.3 слабая, 0.3-0.5 умеренная, 0.5-0.7 заметная, 0.7-0.9 высокая, 0.9-1.0 весьма высокая."
   ]
  },
  {
   "cell_type": "code",
   "execution_count": 153,
   "id": "fed77929-6da3-446d-bb32-8d280f0aebc6",
   "metadata": {},
   "outputs": [],
   "source": [
    "# 5. Выполните проектирование признаков путем реализации следующих преобразований:\n",
    "\n",
    "# a. Работайте с категориальными переменными, применяя one-hot encoding или label encoding, в зависимости от характера переменной.\n",
    "# b. При необходимости создайте новые характеристики, такие как общая площадь или возраст объекта недвижимости, путем объединения существующих характеристик."
   ]
  },
  {
   "cell_type": "code",
   "execution_count": 154,
   "id": "cfdaaee6-02e2-4eaa-830d-b8e6d2b1b1db",
   "metadata": {},
   "outputs": [
    {
     "data": {
      "text/html": [
       "<div>\n",
       "<style scoped>\n",
       "    .dataframe tbody tr th:only-of-type {\n",
       "        vertical-align: middle;\n",
       "    }\n",
       "\n",
       "    .dataframe tbody tr th {\n",
       "        vertical-align: top;\n",
       "    }\n",
       "\n",
       "    .dataframe thead th {\n",
       "        text-align: right;\n",
       "    }\n",
       "</style>\n",
       "<table border=\"1\" class=\"dataframe\">\n",
       "  <thead>\n",
       "    <tr style=\"text-align: right;\">\n",
       "      <th></th>\n",
       "      <th>Id</th>\n",
       "      <th>MSSubClass</th>\n",
       "      <th>MSZoning</th>\n",
       "      <th>LotFrontage</th>\n",
       "      <th>LotArea</th>\n",
       "      <th>Street</th>\n",
       "      <th>Alley</th>\n",
       "      <th>LotShape</th>\n",
       "      <th>LandContour</th>\n",
       "      <th>Utilities</th>\n",
       "      <th>...</th>\n",
       "      <th>SaleType</th>\n",
       "      <th>SaleCondition</th>\n",
       "      <th>SalePrice</th>\n",
       "      <th>GarageType_2Types</th>\n",
       "      <th>GarageType_Attchd</th>\n",
       "      <th>GarageType_Basment</th>\n",
       "      <th>GarageType_BuiltIn</th>\n",
       "      <th>GarageType_CarPort</th>\n",
       "      <th>GarageType_Detchd</th>\n",
       "      <th>GarageType_NA</th>\n",
       "    </tr>\n",
       "  </thead>\n",
       "  <tbody>\n",
       "    <tr>\n",
       "      <th>0</th>\n",
       "      <td>1</td>\n",
       "      <td>60</td>\n",
       "      <td>RL</td>\n",
       "      <td>65</td>\n",
       "      <td>8450</td>\n",
       "      <td>Pave</td>\n",
       "      <td>NA</td>\n",
       "      <td>Reg</td>\n",
       "      <td>Lvl</td>\n",
       "      <td>AllPub</td>\n",
       "      <td>...</td>\n",
       "      <td>WD</td>\n",
       "      <td>Normal</td>\n",
       "      <td>12.247699</td>\n",
       "      <td>0</td>\n",
       "      <td>1</td>\n",
       "      <td>0</td>\n",
       "      <td>0</td>\n",
       "      <td>0</td>\n",
       "      <td>0</td>\n",
       "      <td>0</td>\n",
       "    </tr>\n",
       "    <tr>\n",
       "      <th>1</th>\n",
       "      <td>2</td>\n",
       "      <td>20</td>\n",
       "      <td>RL</td>\n",
       "      <td>80</td>\n",
       "      <td>9600</td>\n",
       "      <td>Pave</td>\n",
       "      <td>NA</td>\n",
       "      <td>Reg</td>\n",
       "      <td>Lvl</td>\n",
       "      <td>AllPub</td>\n",
       "      <td>...</td>\n",
       "      <td>WD</td>\n",
       "      <td>Normal</td>\n",
       "      <td>12.109016</td>\n",
       "      <td>0</td>\n",
       "      <td>1</td>\n",
       "      <td>0</td>\n",
       "      <td>0</td>\n",
       "      <td>0</td>\n",
       "      <td>0</td>\n",
       "      <td>0</td>\n",
       "    </tr>\n",
       "    <tr>\n",
       "      <th>2</th>\n",
       "      <td>3</td>\n",
       "      <td>60</td>\n",
       "      <td>RL</td>\n",
       "      <td>68</td>\n",
       "      <td>11250</td>\n",
       "      <td>Pave</td>\n",
       "      <td>NA</td>\n",
       "      <td>IR1</td>\n",
       "      <td>Lvl</td>\n",
       "      <td>AllPub</td>\n",
       "      <td>...</td>\n",
       "      <td>WD</td>\n",
       "      <td>Normal</td>\n",
       "      <td>12.317171</td>\n",
       "      <td>0</td>\n",
       "      <td>1</td>\n",
       "      <td>0</td>\n",
       "      <td>0</td>\n",
       "      <td>0</td>\n",
       "      <td>0</td>\n",
       "      <td>0</td>\n",
       "    </tr>\n",
       "    <tr>\n",
       "      <th>3</th>\n",
       "      <td>4</td>\n",
       "      <td>70</td>\n",
       "      <td>RL</td>\n",
       "      <td>60</td>\n",
       "      <td>9550</td>\n",
       "      <td>Pave</td>\n",
       "      <td>NA</td>\n",
       "      <td>IR1</td>\n",
       "      <td>Lvl</td>\n",
       "      <td>AllPub</td>\n",
       "      <td>...</td>\n",
       "      <td>WD</td>\n",
       "      <td>Abnorml</td>\n",
       "      <td>11.849405</td>\n",
       "      <td>0</td>\n",
       "      <td>0</td>\n",
       "      <td>0</td>\n",
       "      <td>0</td>\n",
       "      <td>0</td>\n",
       "      <td>1</td>\n",
       "      <td>0</td>\n",
       "    </tr>\n",
       "    <tr>\n",
       "      <th>4</th>\n",
       "      <td>5</td>\n",
       "      <td>60</td>\n",
       "      <td>RL</td>\n",
       "      <td>84</td>\n",
       "      <td>14260</td>\n",
       "      <td>Pave</td>\n",
       "      <td>NA</td>\n",
       "      <td>IR1</td>\n",
       "      <td>Lvl</td>\n",
       "      <td>AllPub</td>\n",
       "      <td>...</td>\n",
       "      <td>WD</td>\n",
       "      <td>Normal</td>\n",
       "      <td>12.429220</td>\n",
       "      <td>0</td>\n",
       "      <td>1</td>\n",
       "      <td>0</td>\n",
       "      <td>0</td>\n",
       "      <td>0</td>\n",
       "      <td>0</td>\n",
       "      <td>0</td>\n",
       "    </tr>\n",
       "    <tr>\n",
       "      <th>...</th>\n",
       "      <td>...</td>\n",
       "      <td>...</td>\n",
       "      <td>...</td>\n",
       "      <td>...</td>\n",
       "      <td>...</td>\n",
       "      <td>...</td>\n",
       "      <td>...</td>\n",
       "      <td>...</td>\n",
       "      <td>...</td>\n",
       "      <td>...</td>\n",
       "      <td>...</td>\n",
       "      <td>...</td>\n",
       "      <td>...</td>\n",
       "      <td>...</td>\n",
       "      <td>...</td>\n",
       "      <td>...</td>\n",
       "      <td>...</td>\n",
       "      <td>...</td>\n",
       "      <td>...</td>\n",
       "      <td>...</td>\n",
       "      <td>...</td>\n",
       "    </tr>\n",
       "    <tr>\n",
       "      <th>1455</th>\n",
       "      <td>1456</td>\n",
       "      <td>60</td>\n",
       "      <td>RL</td>\n",
       "      <td>62</td>\n",
       "      <td>7917</td>\n",
       "      <td>Pave</td>\n",
       "      <td>NA</td>\n",
       "      <td>Reg</td>\n",
       "      <td>Lvl</td>\n",
       "      <td>AllPub</td>\n",
       "      <td>...</td>\n",
       "      <td>WD</td>\n",
       "      <td>Normal</td>\n",
       "      <td>12.072547</td>\n",
       "      <td>0</td>\n",
       "      <td>1</td>\n",
       "      <td>0</td>\n",
       "      <td>0</td>\n",
       "      <td>0</td>\n",
       "      <td>0</td>\n",
       "      <td>0</td>\n",
       "    </tr>\n",
       "    <tr>\n",
       "      <th>1456</th>\n",
       "      <td>1457</td>\n",
       "      <td>20</td>\n",
       "      <td>RL</td>\n",
       "      <td>85</td>\n",
       "      <td>13175</td>\n",
       "      <td>Pave</td>\n",
       "      <td>NA</td>\n",
       "      <td>Reg</td>\n",
       "      <td>Lvl</td>\n",
       "      <td>AllPub</td>\n",
       "      <td>...</td>\n",
       "      <td>WD</td>\n",
       "      <td>Normal</td>\n",
       "      <td>12.254868</td>\n",
       "      <td>0</td>\n",
       "      <td>1</td>\n",
       "      <td>0</td>\n",
       "      <td>0</td>\n",
       "      <td>0</td>\n",
       "      <td>0</td>\n",
       "      <td>0</td>\n",
       "    </tr>\n",
       "    <tr>\n",
       "      <th>1457</th>\n",
       "      <td>1458</td>\n",
       "      <td>70</td>\n",
       "      <td>RL</td>\n",
       "      <td>66</td>\n",
       "      <td>9042</td>\n",
       "      <td>Pave</td>\n",
       "      <td>NA</td>\n",
       "      <td>Reg</td>\n",
       "      <td>Lvl</td>\n",
       "      <td>AllPub</td>\n",
       "      <td>...</td>\n",
       "      <td>WD</td>\n",
       "      <td>Normal</td>\n",
       "      <td>12.493133</td>\n",
       "      <td>0</td>\n",
       "      <td>1</td>\n",
       "      <td>0</td>\n",
       "      <td>0</td>\n",
       "      <td>0</td>\n",
       "      <td>0</td>\n",
       "      <td>0</td>\n",
       "    </tr>\n",
       "    <tr>\n",
       "      <th>1458</th>\n",
       "      <td>1459</td>\n",
       "      <td>20</td>\n",
       "      <td>RL</td>\n",
       "      <td>68</td>\n",
       "      <td>9717</td>\n",
       "      <td>Pave</td>\n",
       "      <td>NA</td>\n",
       "      <td>Reg</td>\n",
       "      <td>Lvl</td>\n",
       "      <td>AllPub</td>\n",
       "      <td>...</td>\n",
       "      <td>WD</td>\n",
       "      <td>Normal</td>\n",
       "      <td>11.864469</td>\n",
       "      <td>0</td>\n",
       "      <td>1</td>\n",
       "      <td>0</td>\n",
       "      <td>0</td>\n",
       "      <td>0</td>\n",
       "      <td>0</td>\n",
       "      <td>0</td>\n",
       "    </tr>\n",
       "    <tr>\n",
       "      <th>1459</th>\n",
       "      <td>1460</td>\n",
       "      <td>20</td>\n",
       "      <td>RL</td>\n",
       "      <td>75</td>\n",
       "      <td>9937</td>\n",
       "      <td>Pave</td>\n",
       "      <td>NA</td>\n",
       "      <td>Reg</td>\n",
       "      <td>Lvl</td>\n",
       "      <td>AllPub</td>\n",
       "      <td>...</td>\n",
       "      <td>WD</td>\n",
       "      <td>Normal</td>\n",
       "      <td>11.901590</td>\n",
       "      <td>0</td>\n",
       "      <td>1</td>\n",
       "      <td>0</td>\n",
       "      <td>0</td>\n",
       "      <td>0</td>\n",
       "      <td>0</td>\n",
       "      <td>0</td>\n",
       "    </tr>\n",
       "  </tbody>\n",
       "</table>\n",
       "<p>1460 rows × 87 columns</p>\n",
       "</div>"
      ],
      "text/plain": [
       "        Id  MSSubClass MSZoning  LotFrontage  LotArea Street Alley LotShape  \\\n",
       "0        1          60       RL           65     8450   Pave    NA      Reg   \n",
       "1        2          20       RL           80     9600   Pave    NA      Reg   \n",
       "2        3          60       RL           68    11250   Pave    NA      IR1   \n",
       "3        4          70       RL           60     9550   Pave    NA      IR1   \n",
       "4        5          60       RL           84    14260   Pave    NA      IR1   \n",
       "...    ...         ...      ...          ...      ...    ...   ...      ...   \n",
       "1455  1456          60       RL           62     7917   Pave    NA      Reg   \n",
       "1456  1457          20       RL           85    13175   Pave    NA      Reg   \n",
       "1457  1458          70       RL           66     9042   Pave    NA      Reg   \n",
       "1458  1459          20       RL           68     9717   Pave    NA      Reg   \n",
       "1459  1460          20       RL           75     9937   Pave    NA      Reg   \n",
       "\n",
       "     LandContour Utilities  ... SaleType SaleCondition  SalePrice  \\\n",
       "0            Lvl    AllPub  ...       WD        Normal  12.247699   \n",
       "1            Lvl    AllPub  ...       WD        Normal  12.109016   \n",
       "2            Lvl    AllPub  ...       WD        Normal  12.317171   \n",
       "3            Lvl    AllPub  ...       WD       Abnorml  11.849405   \n",
       "4            Lvl    AllPub  ...       WD        Normal  12.429220   \n",
       "...          ...       ...  ...      ...           ...        ...   \n",
       "1455         Lvl    AllPub  ...       WD        Normal  12.072547   \n",
       "1456         Lvl    AllPub  ...       WD        Normal  12.254868   \n",
       "1457         Lvl    AllPub  ...       WD        Normal  12.493133   \n",
       "1458         Lvl    AllPub  ...       WD        Normal  11.864469   \n",
       "1459         Lvl    AllPub  ...       WD        Normal  11.901590   \n",
       "\n",
       "     GarageType_2Types GarageType_Attchd GarageType_Basment  \\\n",
       "0                    0                 1                  0   \n",
       "1                    0                 1                  0   \n",
       "2                    0                 1                  0   \n",
       "3                    0                 0                  0   \n",
       "4                    0                 1                  0   \n",
       "...                ...               ...                ...   \n",
       "1455                 0                 1                  0   \n",
       "1456                 0                 1                  0   \n",
       "1457                 0                 1                  0   \n",
       "1458                 0                 1                  0   \n",
       "1459                 0                 1                  0   \n",
       "\n",
       "     GarageType_BuiltIn  GarageType_CarPort  GarageType_Detchd  GarageType_NA  \n",
       "0                     0                   0                  0              0  \n",
       "1                     0                   0                  0              0  \n",
       "2                     0                   0                  0              0  \n",
       "3                     0                   0                  1              0  \n",
       "4                     0                   0                  0              0  \n",
       "...                 ...                 ...                ...            ...  \n",
       "1455                  0                   0                  0              0  \n",
       "1456                  0                   0                  0              0  \n",
       "1457                  0                   0                  0              0  \n",
       "1458                  0                   0                  0              0  \n",
       "1459                  0                   0                  0              0  \n",
       "\n",
       "[1460 rows x 87 columns]"
      ]
     },
     "execution_count": 154,
     "metadata": {},
     "output_type": "execute_result"
    }
   ],
   "source": [
    "# one-hot encoding для переменной GarageType (расположение гаража) для того, чтобы затем создать переменную о наличии или отсутствии гаража\n",
    "df_one_hot = pd.get_dummies(df, columns=['GarageType'])\n",
    "df_one_hot"
   ]
  },
  {
   "cell_type": "code",
   "execution_count": 155,
   "id": "dbd7440d-c488-42c5-8909-21a742ac88ff",
   "metadata": {},
   "outputs": [
    {
     "name": "stdout",
     "output_type": "stream",
     "text": [
      "    GarageQual  encoded_GarageQual\n",
      "0           TA                 3.0\n",
      "8           Fa                 4.0\n",
      "9           Gd                 2.0\n",
      "39          NA                 NaN\n",
      "185         Ex                 1.0\n",
      "246         Po                 5.0\n"
     ]
    }
   ],
   "source": [
    "# Создаём словарь с ключами для присвоения\n",
    "label_ranks = {\n",
    "    'Ex': 1,  # отлично\n",
    "    'Gd': 2,  # хорошо\n",
    "    'TA': 3,  # средне\n",
    "    'Fa': 4,  # удовлетворительно\n",
    "    'Po': 5}  # плохо\n",
    "# Преобразование значений столбца 'GarageQual' в числовые ранги\n",
    "df_one_hot['encoded_GarageQual'] = df_one_hot['GarageQual'].map(label_ranks)\n",
    "# Выбор столбцов для отображения\n",
    "selected_columns = ['GarageQual', 'encoded_GarageQual']\n",
    "# DataFrame с уникальными соответствиями категориальных и числовых значений\n",
    "df = df_one_hot[['GarageQual', 'encoded_GarageQual']].drop_duplicates()\n",
    "\n",
    "print(df)"
   ]
  },
  {
   "cell_type": "code",
   "execution_count": 156,
   "id": "bbc80d44-a8c6-4cb2-84b9-07479d01b53e",
   "metadata": {},
   "outputs": [
    {
     "data": {
      "text/html": [
       "<div>\n",
       "<style scoped>\n",
       "    .dataframe tbody tr th:only-of-type {\n",
       "        vertical-align: middle;\n",
       "    }\n",
       "\n",
       "    .dataframe tbody tr th {\n",
       "        vertical-align: top;\n",
       "    }\n",
       "\n",
       "    .dataframe thead th {\n",
       "        text-align: right;\n",
       "    }\n",
       "</style>\n",
       "<table border=\"1\" class=\"dataframe\">\n",
       "  <thead>\n",
       "    <tr style=\"text-align: right;\">\n",
       "      <th></th>\n",
       "      <th>Id</th>\n",
       "      <th>MSSubClass</th>\n",
       "      <th>MSZoning</th>\n",
       "      <th>LotFrontage</th>\n",
       "      <th>LotArea</th>\n",
       "      <th>Street</th>\n",
       "      <th>Alley</th>\n",
       "      <th>LotShape</th>\n",
       "      <th>LandContour</th>\n",
       "      <th>Utilities</th>\n",
       "      <th>...</th>\n",
       "      <th>SalePrice</th>\n",
       "      <th>GarageType_2Types</th>\n",
       "      <th>GarageType_Attchd</th>\n",
       "      <th>GarageType_Basment</th>\n",
       "      <th>GarageType_BuiltIn</th>\n",
       "      <th>GarageType_CarPort</th>\n",
       "      <th>GarageType_Detchd</th>\n",
       "      <th>GarageType_NA</th>\n",
       "      <th>encoded_GarageQual</th>\n",
       "      <th>Garage</th>\n",
       "    </tr>\n",
       "  </thead>\n",
       "  <tbody>\n",
       "    <tr>\n",
       "      <th>0</th>\n",
       "      <td>1</td>\n",
       "      <td>60</td>\n",
       "      <td>RL</td>\n",
       "      <td>65</td>\n",
       "      <td>8450</td>\n",
       "      <td>Pave</td>\n",
       "      <td>NA</td>\n",
       "      <td>Reg</td>\n",
       "      <td>Lvl</td>\n",
       "      <td>AllPub</td>\n",
       "      <td>...</td>\n",
       "      <td>12.247699</td>\n",
       "      <td>0</td>\n",
       "      <td>1</td>\n",
       "      <td>0</td>\n",
       "      <td>0</td>\n",
       "      <td>0</td>\n",
       "      <td>0</td>\n",
       "      <td>0</td>\n",
       "      <td>3.0</td>\n",
       "      <td>True</td>\n",
       "    </tr>\n",
       "    <tr>\n",
       "      <th>1</th>\n",
       "      <td>2</td>\n",
       "      <td>20</td>\n",
       "      <td>RL</td>\n",
       "      <td>80</td>\n",
       "      <td>9600</td>\n",
       "      <td>Pave</td>\n",
       "      <td>NA</td>\n",
       "      <td>Reg</td>\n",
       "      <td>Lvl</td>\n",
       "      <td>AllPub</td>\n",
       "      <td>...</td>\n",
       "      <td>12.109016</td>\n",
       "      <td>0</td>\n",
       "      <td>1</td>\n",
       "      <td>0</td>\n",
       "      <td>0</td>\n",
       "      <td>0</td>\n",
       "      <td>0</td>\n",
       "      <td>0</td>\n",
       "      <td>3.0</td>\n",
       "      <td>True</td>\n",
       "    </tr>\n",
       "    <tr>\n",
       "      <th>2</th>\n",
       "      <td>3</td>\n",
       "      <td>60</td>\n",
       "      <td>RL</td>\n",
       "      <td>68</td>\n",
       "      <td>11250</td>\n",
       "      <td>Pave</td>\n",
       "      <td>NA</td>\n",
       "      <td>IR1</td>\n",
       "      <td>Lvl</td>\n",
       "      <td>AllPub</td>\n",
       "      <td>...</td>\n",
       "      <td>12.317171</td>\n",
       "      <td>0</td>\n",
       "      <td>1</td>\n",
       "      <td>0</td>\n",
       "      <td>0</td>\n",
       "      <td>0</td>\n",
       "      <td>0</td>\n",
       "      <td>0</td>\n",
       "      <td>3.0</td>\n",
       "      <td>True</td>\n",
       "    </tr>\n",
       "    <tr>\n",
       "      <th>3</th>\n",
       "      <td>4</td>\n",
       "      <td>70</td>\n",
       "      <td>RL</td>\n",
       "      <td>60</td>\n",
       "      <td>9550</td>\n",
       "      <td>Pave</td>\n",
       "      <td>NA</td>\n",
       "      <td>IR1</td>\n",
       "      <td>Lvl</td>\n",
       "      <td>AllPub</td>\n",
       "      <td>...</td>\n",
       "      <td>11.849405</td>\n",
       "      <td>0</td>\n",
       "      <td>0</td>\n",
       "      <td>0</td>\n",
       "      <td>0</td>\n",
       "      <td>0</td>\n",
       "      <td>1</td>\n",
       "      <td>0</td>\n",
       "      <td>3.0</td>\n",
       "      <td>True</td>\n",
       "    </tr>\n",
       "    <tr>\n",
       "      <th>4</th>\n",
       "      <td>5</td>\n",
       "      <td>60</td>\n",
       "      <td>RL</td>\n",
       "      <td>84</td>\n",
       "      <td>14260</td>\n",
       "      <td>Pave</td>\n",
       "      <td>NA</td>\n",
       "      <td>IR1</td>\n",
       "      <td>Lvl</td>\n",
       "      <td>AllPub</td>\n",
       "      <td>...</td>\n",
       "      <td>12.429220</td>\n",
       "      <td>0</td>\n",
       "      <td>1</td>\n",
       "      <td>0</td>\n",
       "      <td>0</td>\n",
       "      <td>0</td>\n",
       "      <td>0</td>\n",
       "      <td>0</td>\n",
       "      <td>3.0</td>\n",
       "      <td>True</td>\n",
       "    </tr>\n",
       "    <tr>\n",
       "      <th>...</th>\n",
       "      <td>...</td>\n",
       "      <td>...</td>\n",
       "      <td>...</td>\n",
       "      <td>...</td>\n",
       "      <td>...</td>\n",
       "      <td>...</td>\n",
       "      <td>...</td>\n",
       "      <td>...</td>\n",
       "      <td>...</td>\n",
       "      <td>...</td>\n",
       "      <td>...</td>\n",
       "      <td>...</td>\n",
       "      <td>...</td>\n",
       "      <td>...</td>\n",
       "      <td>...</td>\n",
       "      <td>...</td>\n",
       "      <td>...</td>\n",
       "      <td>...</td>\n",
       "      <td>...</td>\n",
       "      <td>...</td>\n",
       "      <td>...</td>\n",
       "    </tr>\n",
       "    <tr>\n",
       "      <th>1455</th>\n",
       "      <td>1456</td>\n",
       "      <td>60</td>\n",
       "      <td>RL</td>\n",
       "      <td>62</td>\n",
       "      <td>7917</td>\n",
       "      <td>Pave</td>\n",
       "      <td>NA</td>\n",
       "      <td>Reg</td>\n",
       "      <td>Lvl</td>\n",
       "      <td>AllPub</td>\n",
       "      <td>...</td>\n",
       "      <td>12.072547</td>\n",
       "      <td>0</td>\n",
       "      <td>1</td>\n",
       "      <td>0</td>\n",
       "      <td>0</td>\n",
       "      <td>0</td>\n",
       "      <td>0</td>\n",
       "      <td>0</td>\n",
       "      <td>3.0</td>\n",
       "      <td>True</td>\n",
       "    </tr>\n",
       "    <tr>\n",
       "      <th>1456</th>\n",
       "      <td>1457</td>\n",
       "      <td>20</td>\n",
       "      <td>RL</td>\n",
       "      <td>85</td>\n",
       "      <td>13175</td>\n",
       "      <td>Pave</td>\n",
       "      <td>NA</td>\n",
       "      <td>Reg</td>\n",
       "      <td>Lvl</td>\n",
       "      <td>AllPub</td>\n",
       "      <td>...</td>\n",
       "      <td>12.254868</td>\n",
       "      <td>0</td>\n",
       "      <td>1</td>\n",
       "      <td>0</td>\n",
       "      <td>0</td>\n",
       "      <td>0</td>\n",
       "      <td>0</td>\n",
       "      <td>0</td>\n",
       "      <td>3.0</td>\n",
       "      <td>True</td>\n",
       "    </tr>\n",
       "    <tr>\n",
       "      <th>1457</th>\n",
       "      <td>1458</td>\n",
       "      <td>70</td>\n",
       "      <td>RL</td>\n",
       "      <td>66</td>\n",
       "      <td>9042</td>\n",
       "      <td>Pave</td>\n",
       "      <td>NA</td>\n",
       "      <td>Reg</td>\n",
       "      <td>Lvl</td>\n",
       "      <td>AllPub</td>\n",
       "      <td>...</td>\n",
       "      <td>12.493133</td>\n",
       "      <td>0</td>\n",
       "      <td>1</td>\n",
       "      <td>0</td>\n",
       "      <td>0</td>\n",
       "      <td>0</td>\n",
       "      <td>0</td>\n",
       "      <td>0</td>\n",
       "      <td>3.0</td>\n",
       "      <td>True</td>\n",
       "    </tr>\n",
       "    <tr>\n",
       "      <th>1458</th>\n",
       "      <td>1459</td>\n",
       "      <td>20</td>\n",
       "      <td>RL</td>\n",
       "      <td>68</td>\n",
       "      <td>9717</td>\n",
       "      <td>Pave</td>\n",
       "      <td>NA</td>\n",
       "      <td>Reg</td>\n",
       "      <td>Lvl</td>\n",
       "      <td>AllPub</td>\n",
       "      <td>...</td>\n",
       "      <td>11.864469</td>\n",
       "      <td>0</td>\n",
       "      <td>1</td>\n",
       "      <td>0</td>\n",
       "      <td>0</td>\n",
       "      <td>0</td>\n",
       "      <td>0</td>\n",
       "      <td>0</td>\n",
       "      <td>3.0</td>\n",
       "      <td>True</td>\n",
       "    </tr>\n",
       "    <tr>\n",
       "      <th>1459</th>\n",
       "      <td>1460</td>\n",
       "      <td>20</td>\n",
       "      <td>RL</td>\n",
       "      <td>75</td>\n",
       "      <td>9937</td>\n",
       "      <td>Pave</td>\n",
       "      <td>NA</td>\n",
       "      <td>Reg</td>\n",
       "      <td>Lvl</td>\n",
       "      <td>AllPub</td>\n",
       "      <td>...</td>\n",
       "      <td>11.901590</td>\n",
       "      <td>0</td>\n",
       "      <td>1</td>\n",
       "      <td>0</td>\n",
       "      <td>0</td>\n",
       "      <td>0</td>\n",
       "      <td>0</td>\n",
       "      <td>0</td>\n",
       "      <td>3.0</td>\n",
       "      <td>True</td>\n",
       "    </tr>\n",
       "  </tbody>\n",
       "</table>\n",
       "<p>1460 rows × 89 columns</p>\n",
       "</div>"
      ],
      "text/plain": [
       "        Id  MSSubClass MSZoning  LotFrontage  LotArea Street Alley LotShape  \\\n",
       "0        1          60       RL           65     8450   Pave    NA      Reg   \n",
       "1        2          20       RL           80     9600   Pave    NA      Reg   \n",
       "2        3          60       RL           68    11250   Pave    NA      IR1   \n",
       "3        4          70       RL           60     9550   Pave    NA      IR1   \n",
       "4        5          60       RL           84    14260   Pave    NA      IR1   \n",
       "...    ...         ...      ...          ...      ...    ...   ...      ...   \n",
       "1455  1456          60       RL           62     7917   Pave    NA      Reg   \n",
       "1456  1457          20       RL           85    13175   Pave    NA      Reg   \n",
       "1457  1458          70       RL           66     9042   Pave    NA      Reg   \n",
       "1458  1459          20       RL           68     9717   Pave    NA      Reg   \n",
       "1459  1460          20       RL           75     9937   Pave    NA      Reg   \n",
       "\n",
       "     LandContour Utilities  ...  SalePrice GarageType_2Types  \\\n",
       "0            Lvl    AllPub  ...  12.247699                 0   \n",
       "1            Lvl    AllPub  ...  12.109016                 0   \n",
       "2            Lvl    AllPub  ...  12.317171                 0   \n",
       "3            Lvl    AllPub  ...  11.849405                 0   \n",
       "4            Lvl    AllPub  ...  12.429220                 0   \n",
       "...          ...       ...  ...        ...               ...   \n",
       "1455         Lvl    AllPub  ...  12.072547                 0   \n",
       "1456         Lvl    AllPub  ...  12.254868                 0   \n",
       "1457         Lvl    AllPub  ...  12.493133                 0   \n",
       "1458         Lvl    AllPub  ...  11.864469                 0   \n",
       "1459         Lvl    AllPub  ...  11.901590                 0   \n",
       "\n",
       "     GarageType_Attchd GarageType_Basment GarageType_BuiltIn  \\\n",
       "0                    1                  0                  0   \n",
       "1                    1                  0                  0   \n",
       "2                    1                  0                  0   \n",
       "3                    0                  0                  0   \n",
       "4                    1                  0                  0   \n",
       "...                ...                ...                ...   \n",
       "1455                 1                  0                  0   \n",
       "1456                 1                  0                  0   \n",
       "1457                 1                  0                  0   \n",
       "1458                 1                  0                  0   \n",
       "1459                 1                  0                  0   \n",
       "\n",
       "     GarageType_CarPort GarageType_Detchd  GarageType_NA  encoded_GarageQual  \\\n",
       "0                     0                 0              0                 3.0   \n",
       "1                     0                 0              0                 3.0   \n",
       "2                     0                 0              0                 3.0   \n",
       "3                     0                 1              0                 3.0   \n",
       "4                     0                 0              0                 3.0   \n",
       "...                 ...               ...            ...                 ...   \n",
       "1455                  0                 0              0                 3.0   \n",
       "1456                  0                 0              0                 3.0   \n",
       "1457                  0                 0              0                 3.0   \n",
       "1458                  0                 0              0                 3.0   \n",
       "1459                  0                 0              0                 3.0   \n",
       "\n",
       "      Garage  \n",
       "0       True  \n",
       "1       True  \n",
       "2       True  \n",
       "3       True  \n",
       "4       True  \n",
       "...      ...  \n",
       "1455    True  \n",
       "1456    True  \n",
       "1457    True  \n",
       "1458    True  \n",
       "1459    True  \n",
       "\n",
       "[1460 rows x 89 columns]"
      ]
     },
     "execution_count": 156,
     "metadata": {},
     "output_type": "execute_result"
    }
   ],
   "source": [
    "# Объединяем поля с типами расположения гаража в новую переменную (Garage), характеризующую наличие гаража.\n",
    "\n",
    "# Список столбцов, представляющих различные типы гаражей\n",
    "selected_columns = ['GarageType_2Types', 'GarageType_Attchd', 'GarageType_Basment', 'GarageType_BuiltIn', 'GarageType_CarPort', 'GarageType_Detchd']\n",
    "# Добавление столбца 'Garage'\n",
    "df_one_hot[\"Garage\"] = df_one_hot[selected_columns].any(axis=1)\n",
    "# Вывод первых 10 строк\n",
    "# df_one_hot.head(10)\n",
    "df_one_hot"
   ]
  },
  {
   "cell_type": "code",
   "execution_count": 157,
   "id": "be6d2eb8-0c7f-4d3b-aae7-ce7c91d57af0",
   "metadata": {},
   "outputs": [],
   "source": [
    "# 6. Сохраните очищенный и преобразованный набор данных в новый CSV-файл под названием 'cleaned_house_prices.csv'."
   ]
  },
  {
   "cell_type": "code",
   "execution_count": 158,
   "id": "f6051f5f-3dac-4685-9a2f-c087ff42967c",
   "metadata": {},
   "outputs": [],
   "source": [
    "# Сохранение DataFrame с изменениями\n",
    "df_one_hot.to_csv('cleaned_house_prices.csv', index=False)"
   ]
  },
  {
   "cell_type": "code",
   "execution_count": null,
   "id": "41298eeb-12ed-4064-87d4-7bf6e4fac0fe",
   "metadata": {},
   "outputs": [],
   "source": []
  },
  {
   "cell_type": "code",
   "execution_count": null,
   "id": "fce001df-9330-4bd5-921e-d77044d4fa81",
   "metadata": {},
   "outputs": [],
   "source": []
  }
 ],
 "metadata": {
  "kernelspec": {
   "display_name": "Python 3 (ipykernel)",
   "language": "python",
   "name": "python3"
  },
  "language_info": {
   "codemirror_mode": {
    "name": "ipython",
    "version": 3
   },
   "file_extension": ".py",
   "mimetype": "text/x-python",
   "name": "python",
   "nbconvert_exporter": "python",
   "pygments_lexer": "ipython3",
   "version": "3.8.0"
  }
 },
 "nbformat": 4,
 "nbformat_minor": 5
}
